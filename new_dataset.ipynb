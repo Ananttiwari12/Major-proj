{
 "cells": [
  {
   "cell_type": "code",
   "execution_count": 2,
   "metadata": {},
   "outputs": [],
   "source": [
    "import numpy as np\n",
    "import pandas as pd\n",
    "from datetime import datetime, timedelta\n",
    "import random"
   ]
  },
  {
   "cell_type": "code",
   "execution_count": 3,
   "metadata": {},
   "outputs": [],
   "source": [
    "# Load the existing dataset\n",
    "df = pd.read_csv(\"synthetic_network_traffic.csv\")\n",
    "\n",
    "# Convert timestamp to datetime if not already\n",
    "df['timestamp'] = pd.to_datetime(df['timestamp'])"
   ]
  },
  {
   "cell_type": "code",
   "execution_count": 4,
   "metadata": {},
   "outputs": [],
   "source": [
    "# Initialize new feature columns\n",
    "packet_inter_arrival_times = []\n",
    "packet_duration_ratios = []\n",
    "syn_packet_frequencies = []\n",
    "\n",
    "# Initialize variables for calculations\n",
    "previous_timestamp = None\n",
    "syn_packet_count = 0\n",
    "time_window_duration = timedelta(seconds=60)  # 60-second window\n",
    "time_window_start = df['timestamp'].iloc[0]\n",
    "\n",
    "# Feature Engineering\n",
    "for i, row in df.iterrows():\n",
    "    current_timestamp = row['timestamp']\n",
    "    packet_size = row['packet_size']\n",
    "    connection_duration = row['connection_duration']\n",
    "    \n",
    "    # Calculate packet inter-arrival time\n",
    "    if previous_timestamp is not None:\n",
    "        inter_arrival_time = (current_timestamp - previous_timestamp).total_seconds()\n",
    "    else:\n",
    "        inter_arrival_time = 0\n",
    "    packet_inter_arrival_times.append(inter_arrival_time)\n",
    "\n",
    "    # Calculate packet duration ratio\n",
    "    duration_ratio = packet_size / connection_duration if connection_duration > 0 else 0\n",
    "    packet_duration_ratios.append(duration_ratio)\n",
    "\n",
    "    # Calculate SYN packet frequency in a 60-second window (simulate SYN packet probability)\n",
    "    packet_type = 'SYN' if random.random() < 0.1 else 'NORMAL'  # 10% probability for SYN\n",
    "    time_elapsed = current_timestamp - time_window_start\n",
    "    if packet_type == 'SYN':\n",
    "        syn_packet_count += 1\n",
    "\n",
    "    if time_elapsed >= time_window_duration:\n",
    "        syn_frequency = syn_packet_count / time_elapsed.total_seconds()\n",
    "        syn_packet_frequencies.append(syn_frequency)\n",
    "        syn_packet_count = 0  # Reset for the next window\n",
    "        time_window_start = current_timestamp\n",
    "    else:\n",
    "        # Keep previous frequency if window not elapsed\n",
    "        syn_packet_frequencies.append(syn_packet_frequencies[-1] if syn_packet_frequencies else 0)\n",
    "\n",
    "    # Update previous timestamp\n",
    "    previous_timestamp = current_timestamp\n"
   ]
  },
  {
   "cell_type": "code",
   "execution_count": 5,
   "metadata": {},
   "outputs": [
    {
     "name": "stdout",
     "output_type": "stream",
     "text": [
      "Updated dataset with engineered features saved as 'synthetic_network_traffic_with_features.csv'.\n"
     ]
    }
   ],
   "source": [
    "# Add new features to the DataFrame\n",
    "df['packet_inter_arrival_time'] = packet_inter_arrival_times\n",
    "df['packet_duration_ratio'] = packet_duration_ratios\n",
    "df['syn_packet_frequency'] = syn_packet_frequencies\n",
    "\n",
    "# Save updated dataset\n",
    "df.to_csv(\"synthetic_network_traffic_with_features.csv\", index=False)\n",
    "print(\"Updated dataset with engineered features saved as 'synthetic_network_traffic_with_features.csv'.\")"
   ]
  }
 ],
 "metadata": {
  "kernelspec": {
   "display_name": "Python 3",
   "language": "python",
   "name": "python3"
  },
  "language_info": {
   "codemirror_mode": {
    "name": "ipython",
    "version": 3
   },
   "file_extension": ".py",
   "mimetype": "text/x-python",
   "name": "python",
   "nbconvert_exporter": "python",
   "pygments_lexer": "ipython3",
   "version": "3.11.5"
  }
 },
 "nbformat": 4,
 "nbformat_minor": 2
}
