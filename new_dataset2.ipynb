{
 "cells": [
  {
   "cell_type": "code",
   "execution_count": 36,
   "metadata": {},
   "outputs": [],
   "source": [
    "import numpy as np\n",
    "import pandas as pd"
   ]
  },
  {
   "cell_type": "code",
   "execution_count": 37,
   "metadata": {},
   "outputs": [],
   "source": [
    "# Number of samples\n",
    "n_samples = 10000\n",
    "anomaly_fraction = 0.05  # 5% anomalous data\n",
    "\n",
    "# Define possible values for categorical features\n",
    "slice_types = ['eMBB', 'URLLC', 'mMTC']\n",
    "device_types = ['smartphone', 'sensor', 'camera', 'drone']"
   ]
  },
  {
   "cell_type": "code",
   "execution_count": 38,
   "metadata": {},
   "outputs": [],
   "source": [
    "# Create the normal data\n",
    "data = {\n",
    "    # Network Slicing Features\n",
    "    'SliceID': np.random.randint(1000, 2000, n_samples),\n",
    "    'SliceType': np.random.choice(slice_types, n_samples),\n",
    "    'SLA_Latency_ms': np.random.uniform(1, 10, n_samples),\n",
    "    'SLA_Bandwidth_Mbps': np.random.uniform(50, 100, n_samples),\n",
    "    'CPUAllocation%': np.random.uniform(50, 100, n_samples),\n",
    "    'MemoryAllocation%': np.random.uniform(50, 100, n_samples),\n",
    "    'Bandwidth_Allocation_Mbps': np.random.uniform(50, 200, n_samples),\n",
    "    'TrafficVolume_GB': np.random.uniform(0.1, 5, n_samples),\n",
    "    'PacketInterArrival_ms': np.random.uniform(0.1, 5, n_samples),\n",
    "    'ServiceType': np.random.choice(['voice', 'video', 'IoT'], n_samples),\n",
    "\n",
    "    # Ultra-Low Latency Features\n",
    "    'EndToEndLatency_ms': np.random.uniform(1, 20, n_samples),\n",
    "    'Jitter_ms': np.random.uniform(0.1, 5, n_samples),\n",
    "    'RTT_ms': np.random.uniform(1, 20, n_samples),\n",
    "    'QoS_Delay_ms': np.random.uniform(1, 10, n_samples),\n",
    "    'QoS_Jitter_ms': np.random.uniform(0.1, 5, n_samples),\n",
    "    'QoSPacketLoss%': np.random.uniform(0, 1, n_samples),\n",
    "\n",
    "    # High Data Throughput Features\n",
    "    'Throughput_Mbps': np.random.uniform(10, 1000, n_samples),\n",
    "    'PacketLossRate%': np.random.uniform(0, 1, n_samples),\n",
    "    'RetransmissionRate%': np.random.uniform(0, 1, n_samples),\n",
    "    'BandwidthUtilization%': np.random.uniform(50, 100, n_samples),\n",
    "    'FlowDirection': np.random.choice(['uplink', 'downlink'], n_samples),\n",
    "\n",
    "    # Massive IoT Connectivity Features\n",
    "    'DeviceType': np.random.choice(device_types, n_samples),\n",
    "    'ConnectionDensity_per_km2': np.random.uniform(100, 1000, n_samples),\n",
    "    'DataUsage_MB': np.random.uniform(0.1, 100, n_samples),\n",
    "    'PacketSize_Bytes': np.random.randint(64, 1500, n_samples),\n",
    "    'ConnectionTime_ms': np.random.uniform(10, 500, n_samples),\n",
    "    'BatteryLevel%': np.random.uniform(20, 100, n_samples),\n",
    "    'SignalStrength_dBm': np.random.uniform(-120, -50, n_samples),\n",
    "\n",
    "    # MIMO Features\n",
    "    'BeamID': np.random.randint(1, 100, n_samples),\n",
    "    'BeamAngle_deg': np.random.uniform(0, 360, n_samples),\n",
    "    'SignalStrength_dB': np.random.uniform(-120, -50, n_samples),\n",
    "    'ChannelQualityIndicator': np.random.randint(1, 15, n_samples),\n",
    "    'SNR_dB': np.random.uniform(5, 30, n_samples),\n",
    "    'SpatialStreams': np.random.randint(1, 8, n_samples),\n",
    "    'UELocation': np.random.uniform(0, 100, n_samples),  # Simulating coordinates within the cell\n",
    "}"
   ]
  },
  {
   "cell_type": "code",
   "execution_count": 39,
   "metadata": {},
   "outputs": [],
   "source": [
    "# Convert the dictionary to a DataFrame\n",
    "df = pd.DataFrame(data)\n",
    "\n",
    "# Add a column for anomaly detection\n",
    "df['Anomaly'] = 0  # Start with all samples as normal\n",
    "\n",
    "# Select a random subset for anomalies\n",
    "anomaly_indices = np.random.choice(df.index, size=int(anomaly_fraction * n_samples), replace=False)\n",
    "\n",
    "# Apply anomalies to specific columns\n",
    "df.loc[anomaly_indices, 'EndToEndLatency_ms'] = np.random.uniform(50, 100, len(anomaly_indices))\n",
    "df.loc[anomaly_indices, 'PacketLossRate%'] = np.random.uniform(5, 10, len(anomaly_indices))\n",
    "df.loc[anomaly_indices, 'RetransmissionRate%'] = np.random.uniform(5, 10, len(anomaly_indices))\n",
    "df.loc[anomaly_indices, 'SignalStrength_dBm'] = np.random.uniform(-140, -130, len(anomaly_indices))\n",
    "df.loc[anomaly_indices, 'BatteryLevel%'] = np.random.uniform(0, 10, len(anomaly_indices))\n",
    "\n",
    "# Label these samples as anomalies\n",
    "df.loc[anomaly_indices, 'Anomaly'] = 1"
   ]
  },
  {
   "cell_type": "code",
   "execution_count": 40,
   "metadata": {},
   "outputs": [
    {
     "name": "stdout",
     "output_type": "stream",
     "text": [
      "   SliceID SliceType  SLA_Latency_ms  SLA_Bandwidth_Mbps  CPUAllocation%  \\\n",
      "0     1851      mMTC        7.302353           64.813163       67.988920   \n",
      "1     1037      eMBB        7.249294           72.210178       82.510488   \n",
      "2     1723      eMBB        5.642935           68.718612       83.551987   \n",
      "3     1785      mMTC        4.737606           60.762254       90.972633   \n",
      "4     1903     URLLC        5.869500           70.072329       84.647358   \n",
      "\n",
      "   MemoryAllocation%  Bandwidth_Allocation_Mbps  TrafficVolume_GB  \\\n",
      "0          82.386098                 111.455872          0.157606   \n",
      "1          67.431284                  71.848784          4.217008   \n",
      "2          67.500213                 130.632293          0.387957   \n",
      "3          70.983929                  70.189836          2.057627   \n",
      "4          72.780475                 186.906736          3.450233   \n",
      "\n",
      "   PacketInterArrival_ms ServiceType  ...  BatteryLevel%  SignalStrength_dBm  \\\n",
      "0               3.072438       video  ...      76.487515         -103.049622   \n",
      "1               2.476359       voice  ...      29.288352          -62.169553   \n",
      "2               4.186783       voice  ...      99.038238          -63.158820   \n",
      "3               2.486927       video  ...      33.951545         -116.861621   \n",
      "4               1.221876       video  ...      25.735845          -74.708124   \n",
      "\n",
      "   BeamID  BeamAngle_deg  SignalStrength_dB  ChannelQualityIndicator  \\\n",
      "0      16     327.577929        -100.406492                        7   \n",
      "1      17     315.955248        -111.806769                        1   \n",
      "2      57     264.087045        -118.762807                       11   \n",
      "3       3     305.352422         -99.118014                        3   \n",
      "4      63     149.725061         -77.612161                        9   \n",
      "\n",
      "      SNR_dB  SpatialStreams  UELocation  Anomaly  \n",
      "0  19.222354               5   63.006476        0  \n",
      "1   9.553419               7   51.809935        0  \n",
      "2  10.464233               6   38.887279        0  \n",
      "3  13.128968               2   33.762332        0  \n",
      "4  11.578049               1   70.176614        0  \n",
      "\n",
      "[5 rows x 36 columns]\n"
     ]
    }
   ],
   "source": [
    "df.to_csv(\"New_dataset2.csv\")\n",
    "# Display the first few rows of the dataset\n",
    "print(df.head())"
   ]
  }
 ],
 "metadata": {
  "kernelspec": {
   "display_name": "Python 3",
   "language": "python",
   "name": "python3"
  },
  "language_info": {
   "codemirror_mode": {
    "name": "ipython",
    "version": 3
   },
   "file_extension": ".py",
   "mimetype": "text/x-python",
   "name": "python",
   "nbconvert_exporter": "python",
   "pygments_lexer": "ipython3",
   "version": "3.11.5"
  }
 },
 "nbformat": 4,
 "nbformat_minor": 2
}
