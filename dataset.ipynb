{
 "cells": [
  {
   "cell_type": "code",
   "execution_count": 1,
   "metadata": {},
   "outputs": [],
   "source": [
    "import numpy as np\n",
    "import pandas as pd\n",
    "from datetime import datetime, timedelta\n",
    "import random"
   ]
  },
  {
   "cell_type": "code",
   "execution_count": 2,
   "metadata": {},
   "outputs": [],
   "source": [
    "# Set random seed for reproducibility\n",
    "np.random.seed(42)\n",
    "random.seed(42)\n",
    "\n",
    "# Parameters for the synthetic data\n",
    "num_samples = 10000  # Total number of samples\n",
    "anomaly_ratio = 0.05  # Percentage of anomalies in the dataset\n",
    "num_anomalies = int(num_samples * anomaly_ratio)"
   ]
  },
  {
   "cell_type": "code",
   "execution_count": 3,
   "metadata": {},
   "outputs": [],
   "source": [
    "start_time = datetime.now()\n",
    "timestamps = [start_time + timedelta(seconds=i) for i in range(num_samples)]\n",
    "\n",
    "# Generate normal data\n",
    "data = {\n",
    "    \"timestamp\": timestamps,\n",
    "    \"packet_size\": np.random.normal(loc=500, scale=100, size=num_samples),  # Average packet size of 500 bytes\n",
    "    \"connection_duration\": np.random.normal(loc=2, scale=0.5, size=num_samples),  # Average duration of 2 seconds\n",
    "    \"src_ip\": [f\"192.168.1.{np.random.randint(1, 255)}\" for _ in range(num_samples)],\n",
    "    \"dst_ip\": [f\"10.0.0.{np.random.randint(1, 255)}\" for _ in range(num_samples)],\n",
    "    \"label\": [0] * num_samples  # Start with all normal labels\n",
    "}"
   ]
  },
  {
   "cell_type": "code",
   "execution_count": 4,
   "metadata": {},
   "outputs": [
    {
     "name": "stdout",
     "output_type": "stream",
     "text": [
      "Synthetic network traffic dataset saved as 'synthetic_network_traffic.csv'.\n"
     ]
    }
   ],
   "source": [
    "df = pd.DataFrame(data)\n",
    "\n",
    "# Inject anomalies\n",
    "# Increase packet sizes and connection durations randomly for anomaly samples\n",
    "anomaly_indices = np.random.choice(df.index, size=num_anomalies, replace=False)\n",
    "df.loc[anomaly_indices, \"packet_size\"] = np.random.normal(loc=1500, scale=300, size=num_anomalies)  # Larger packet sizes\n",
    "df.loc[anomaly_indices, \"connection_duration\"] = np.random.normal(loc=10, scale=3, size=num_anomalies)  # Longer durations\n",
    "df.loc[anomaly_indices, \"label\"] = 1  # Mark as anomaly\n",
    "\n",
    "# Ensure no negative values in packet size or duration\n",
    "df[\"packet_size\"] = df[\"packet_size\"].clip(lower=0)\n",
    "df[\"connection_duration\"] = df[\"connection_duration\"].clip(lower=0)\n",
    "\n",
    "# Save to CSV\n",
    "df.to_csv(\"synthetic_network_traffic.csv\", index=False)\n",
    "print(\"Synthetic network traffic dataset saved as 'synthetic_network_traffic.csv'.\")"
   ]
  }
 ],
 "metadata": {
  "kernelspec": {
   "display_name": "Python 3",
   "language": "python",
   "name": "python3"
  },
  "language_info": {
   "codemirror_mode": {
    "name": "ipython",
    "version": 3
   },
   "file_extension": ".py",
   "mimetype": "text/x-python",
   "name": "python",
   "nbconvert_exporter": "python",
   "pygments_lexer": "ipython3",
   "version": "3.11.5"
  }
 },
 "nbformat": 4,
 "nbformat_minor": 2
}
