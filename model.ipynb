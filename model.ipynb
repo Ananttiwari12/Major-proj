{
 "cells": [
  {
   "cell_type": "code",
   "execution_count": 1,
   "metadata": {},
   "outputs": [],
   "source": [
    "import numpy as np\n",
    "import pandas as pd\n",
    "from sklearn.preprocessing import MinMaxScaler\n",
    "from tensorflow.keras.models import Sequential\n",
    "from tensorflow.keras.layers import LSTM, Dense, RepeatVector, TimeDistributed"
   ]
  },
  {
   "cell_type": "code",
   "execution_count": 11,
   "metadata": {},
   "outputs": [],
   "source": [
    "# data = pd.read_csv(\"synthetic_network_traffic.csv\")  # Replace with actual file\n",
    "# scaler = MinMaxScaler()\n",
    "# data_scaled = scaler.fit_transform(data[['packet_size']])  # Scale the 'packet_size' column"
   ]
  },
  {
   "cell_type": "code",
   "execution_count": 19,
   "metadata": {},
   "outputs": [],
   "source": [
    "num_samples = 1000  # Total number of samples\n",
    "sequence_length = 50  # Length of each sequence\n",
    "packet_sizes = np.random.normal(loc=500, scale=100, size=num_samples)\n",
    "connection_durations = np.random.normal(loc=2, scale=0.5, size=num_samples)"
   ]
  },
  {
   "cell_type": "code",
   "execution_count": 20,
   "metadata": {},
   "outputs": [],
   "source": [
    "df = pd.DataFrame({\n",
    "    'packet_size': packet_sizes,\n",
    "    'connection_duration': connection_durations\n",
    "})\n",
    "\n",
    "# Scale the data\n",
    "scaler = MinMaxScaler()\n",
    "data_scaled = scaler.fit_transform(df)  # Scale the features"
   ]
  },
  {
   "cell_type": "code",
   "execution_count": 21,
   "metadata": {},
   "outputs": [
    {
     "name": "stdout",
     "output_type": "stream",
     "text": [
      "Shape of training data: (950, 50, 2)\n"
     ]
    }
   ],
   "source": [
    "X = []\n",
    "for i in range(num_samples - sequence_length):\n",
    "    X.append(data_scaled[i:i + sequence_length])\n",
    "\n",
    "X_train = np.array(X)  # Convert list to NumPy array\n",
    "\n",
    "# Ensure the shape is (num_samples - sequence_length, sequence_length, 2)\n",
    "print(\"Shape of training data:\", X_train.shape)  # Should be (950, 50, 2)"
   ]
  },
  {
   "cell_type": "code",
   "execution_count": 22,
   "metadata": {},
   "outputs": [
    {
     "name": "stdout",
     "output_type": "stream",
     "text": [
      "Model: \"sequential_5\"\n",
      "_________________________________________________________________\n",
      " Layer (type)                Output Shape              Param #   \n",
      "=================================================================\n",
      " lstm_20 (LSTM)              (None, 50, 64)            17152     \n",
      "                                                                 \n",
      " lstm_21 (LSTM)              (None, 32)                12416     \n",
      "                                                                 \n",
      " repeat_vector_5 (RepeatVec  (None, 50, 32)            0         \n",
      " tor)                                                            \n",
      "                                                                 \n",
      " lstm_22 (LSTM)              (None, 50, 32)            8320      \n",
      "                                                                 \n",
      " lstm_23 (LSTM)              (None, 50, 64)            24832     \n",
      "                                                                 \n",
      " time_distributed_5 (TimeDi  (None, 50, 2)             130       \n",
      " stributed)                                                      \n",
      "                                                                 \n",
      "=================================================================\n",
      "Total params: 62850 (245.51 KB)\n",
      "Trainable params: 62850 (245.51 KB)\n",
      "Non-trainable params: 0 (0.00 Byte)\n",
      "_________________________________________________________________\n"
     ]
    }
   ],
   "source": [
    "model = Sequential([\n",
    "    LSTM(64, activation='relu', input_shape=(sequence_length, 2), return_sequences=True),\n",
    "    LSTM(32, activation='relu', return_sequences=False),\n",
    "    RepeatVector(sequence_length),\n",
    "    LSTM(32, activation='relu', return_sequences=True),\n",
    "    LSTM(64, activation='relu', return_sequences=True),\n",
    "    TimeDistributed(Dense(2))\n",
    "])\n",
    "model.compile(optimizer='adam', loss='mean_squared_error')\n",
    "model.summary()"
   ]
  },
  {
   "cell_type": "code",
   "execution_count": 23,
   "metadata": {},
   "outputs": [
    {
     "name": "stdout",
     "output_type": "stream",
     "text": [
      "Epoch 1/50\n",
      "27/27 [==============================] - 8s 92ms/step - loss: 0.1200 - val_loss: 0.0551\n",
      "Epoch 2/50\n",
      "27/27 [==============================] - 2s 69ms/step - loss: 0.0422 - val_loss: 0.0407\n",
      "Epoch 3/50\n",
      "27/27 [==============================] - 2s 77ms/step - loss: 0.0366 - val_loss: 0.0372\n",
      "Epoch 4/50\n",
      "27/27 [==============================] - 2s 72ms/step - loss: 0.0334 - val_loss: 0.0342\n",
      "Epoch 5/50\n",
      "27/27 [==============================] - 2s 74ms/step - loss: 0.0315 - val_loss: 0.0327\n",
      "Epoch 6/50\n",
      "27/27 [==============================] - 2s 77ms/step - loss: 0.0303 - val_loss: 0.0315\n",
      "Epoch 7/50\n",
      "27/27 [==============================] - 2s 77ms/step - loss: 0.0294 - val_loss: 0.0306\n",
      "Epoch 8/50\n",
      "27/27 [==============================] - 2s 81ms/step - loss: 0.0286 - val_loss: 0.0299\n",
      "Epoch 9/50\n",
      "27/27 [==============================] - 2s 87ms/step - loss: 0.0280 - val_loss: 0.0294\n",
      "Epoch 10/50\n",
      "27/27 [==============================] - 2s 84ms/step - loss: 0.0275 - val_loss: 0.0290\n",
      "Epoch 11/50\n",
      "27/27 [==============================] - 2s 84ms/step - loss: 0.0270 - val_loss: 0.0287\n",
      "Epoch 12/50\n",
      "27/27 [==============================] - 2s 78ms/step - loss: 0.0265 - val_loss: 0.0285\n",
      "Epoch 13/50\n",
      "27/27 [==============================] - 2s 77ms/step - loss: 0.0264 - val_loss: 0.0299\n",
      "Epoch 14/50\n",
      "27/27 [==============================] - 2s 74ms/step - loss: 0.0263 - val_loss: 0.0278\n",
      "Epoch 15/50\n",
      "27/27 [==============================] - 2s 73ms/step - loss: 0.0260 - val_loss: 0.0280\n",
      "Epoch 16/50\n",
      "27/27 [==============================] - 2s 72ms/step - loss: 0.0259 - val_loss: 0.0279\n",
      "Epoch 17/50\n",
      "27/27 [==============================] - 2s 75ms/step - loss: 0.0259 - val_loss: 0.0278\n",
      "Epoch 18/50\n",
      "27/27 [==============================] - 2s 70ms/step - loss: 0.0259 - val_loss: 0.0278\n",
      "Epoch 19/50\n",
      "27/27 [==============================] - 2s 74ms/step - loss: 0.0259 - val_loss: 0.0278\n",
      "Epoch 20/50\n",
      "27/27 [==============================] - 2s 71ms/step - loss: 0.0259 - val_loss: 0.0277\n",
      "Epoch 21/50\n",
      "27/27 [==============================] - 2s 76ms/step - loss: 0.0258 - val_loss: 0.0277\n",
      "Epoch 22/50\n",
      "27/27 [==============================] - 2s 86ms/step - loss: 0.0258 - val_loss: 0.0277\n",
      "Epoch 23/50\n",
      "27/27 [==============================] - 3s 102ms/step - loss: 0.0258 - val_loss: 0.0277\n",
      "Epoch 24/50\n",
      "27/27 [==============================] - 4s 146ms/step - loss: 0.0258 - val_loss: 0.0276\n",
      "Epoch 25/50\n",
      "27/27 [==============================] - 4s 137ms/step - loss: 0.0258 - val_loss: 0.0276\n",
      "Epoch 26/50\n",
      "27/27 [==============================] - 4s 141ms/step - loss: 0.0258 - val_loss: 0.0276\n",
      "Epoch 27/50\n",
      "27/27 [==============================] - 4s 140ms/step - loss: 0.0258 - val_loss: 0.0276\n",
      "Epoch 28/50\n",
      "27/27 [==============================] - 4s 140ms/step - loss: 0.0258 - val_loss: 0.0276\n",
      "Epoch 29/50\n",
      "27/27 [==============================] - 4s 140ms/step - loss: 0.0258 - val_loss: 0.0276\n",
      "Epoch 30/50\n",
      "27/27 [==============================] - 4s 146ms/step - loss: 0.0258 - val_loss: 0.0276\n",
      "Epoch 31/50\n",
      "27/27 [==============================] - 4s 138ms/step - loss: 0.0258 - val_loss: 0.0275\n",
      "Epoch 32/50\n",
      "27/27 [==============================] - 4s 147ms/step - loss: 0.0258 - val_loss: 0.0275\n",
      "Epoch 33/50\n",
      "27/27 [==============================] - 4s 147ms/step - loss: 0.0258 - val_loss: 0.0275\n",
      "Epoch 34/50\n",
      "27/27 [==============================] - 4s 145ms/step - loss: 0.0258 - val_loss: 0.0275\n",
      "Epoch 35/50\n",
      "27/27 [==============================] - 4s 141ms/step - loss: 0.0258 - val_loss: 0.0275\n",
      "Epoch 36/50\n",
      "27/27 [==============================] - 4s 146ms/step - loss: 0.0258 - val_loss: 0.0275\n",
      "Epoch 37/50\n",
      "27/27 [==============================] - 3s 103ms/step - loss: 0.0258 - val_loss: 0.0275\n",
      "Epoch 38/50\n",
      "27/27 [==============================] - 2s 66ms/step - loss: 0.0258 - val_loss: 0.0275\n",
      "Epoch 39/50\n",
      "27/27 [==============================] - 2s 66ms/step - loss: 0.0258 - val_loss: 0.0275\n",
      "Epoch 40/50\n",
      "27/27 [==============================] - 2s 65ms/step - loss: 0.0258 - val_loss: 0.0275\n",
      "Epoch 41/50\n",
      "27/27 [==============================] - 2s 70ms/step - loss: 0.0258 - val_loss: 0.0275\n",
      "Epoch 42/50\n",
      "27/27 [==============================] - 2s 78ms/step - loss: 0.0258 - val_loss: 0.0274\n",
      "Epoch 43/50\n",
      "27/27 [==============================] - 2s 84ms/step - loss: 0.0258 - val_loss: 0.0275\n",
      "Epoch 44/50\n",
      "27/27 [==============================] - 2s 86ms/step - loss: 0.0258 - val_loss: 0.0274\n",
      "Epoch 45/50\n",
      "27/27 [==============================] - 2s 83ms/step - loss: 0.0258 - val_loss: 0.0275\n",
      "Epoch 46/50\n",
      "27/27 [==============================] - 3s 101ms/step - loss: 0.0258 - val_loss: 0.0274\n",
      "Epoch 47/50\n",
      "27/27 [==============================] - 2s 83ms/step - loss: 0.0258 - val_loss: 0.0274\n",
      "Epoch 48/50\n",
      "27/27 [==============================] - 2s 81ms/step - loss: 0.0258 - val_loss: 0.0274\n",
      "Epoch 49/50\n",
      "27/27 [==============================] - 2s 69ms/step - loss: 0.0258 - val_loss: 0.0274\n",
      "Epoch 50/50\n",
      "27/27 [==============================] - 2s 73ms/step - loss: 0.0258 - val_loss: 0.0274\n"
     ]
    }
   ],
   "source": [
    "history = model.fit(X_train, X_train, epochs=50, batch_size=32, validation_split=0.1, shuffle=False)"
   ]
  },
  {
   "cell_type": "code",
   "execution_count": 18,
   "metadata": {},
   "outputs": [
    {
     "name": "stdout",
     "output_type": "stream",
     "text": [
      "Epoch 1/50\n"
     ]
    },
    {
     "ename": "ValueError",
     "evalue": "in user code:\n\n    File \"C:\\Users\\ANANT TIWARI\\AppData\\Roaming\\Python\\Python311\\site-packages\\keras\\src\\engine\\training.py\", line 1377, in train_function  *\n        return step_function(self, iterator)\n    File \"C:\\Users\\ANANT TIWARI\\AppData\\Roaming\\Python\\Python311\\site-packages\\keras\\src\\engine\\training.py\", line 1360, in step_function  **\n        outputs = model.distribute_strategy.run(run_step, args=(data,))\n    File \"C:\\Users\\ANANT TIWARI\\AppData\\Roaming\\Python\\Python311\\site-packages\\keras\\src\\engine\\training.py\", line 1349, in run_step  **\n        outputs = model.train_step(data)\n    File \"C:\\Users\\ANANT TIWARI\\AppData\\Roaming\\Python\\Python311\\site-packages\\keras\\src\\engine\\training.py\", line 1126, in train_step\n        y_pred = self(x, training=True)\n    File \"C:\\Users\\ANANT TIWARI\\AppData\\Roaming\\Python\\Python311\\site-packages\\keras\\src\\utils\\traceback_utils.py\", line 70, in error_handler\n        raise e.with_traceback(filtered_tb) from None\n    File \"C:\\Users\\ANANT TIWARI\\AppData\\Roaming\\Python\\Python311\\site-packages\\keras\\src\\engine\\input_spec.py\", line 298, in assert_input_compatibility\n        raise ValueError(\n\n    ValueError: Exception encountered when calling layer 'sequential_4' (type Sequential).\n    \n    Input 0 of layer \"lstm_16\" is incompatible with the layer: expected shape=(None, None, 2), found shape=(None, 50, 1)\n    \n    Call arguments received by layer 'sequential_4' (type Sequential):\n      • inputs=tf.Tensor(shape=(None, 50, 1), dtype=float32)\n      • training=True\n      • mask=None\n",
     "output_type": "error",
     "traceback": [
      "\u001b[1;31m---------------------------------------------------------------------------\u001b[0m",
      "\u001b[1;31mValueError\u001b[0m                                Traceback (most recent call last)",
      "Cell \u001b[1;32mIn[18], line 1\u001b[0m\n\u001b[1;32m----> 1\u001b[0m history \u001b[38;5;241m=\u001b[39m \u001b[43mmodel\u001b[49m\u001b[38;5;241;43m.\u001b[39;49m\u001b[43mfit\u001b[49m\u001b[43m(\u001b[49m\u001b[43mX_train\u001b[49m\u001b[43m,\u001b[49m\u001b[43m \u001b[49m\u001b[43mX_train\u001b[49m\u001b[43m,\u001b[49m\u001b[43m \u001b[49m\u001b[43mepochs\u001b[49m\u001b[38;5;241;43m=\u001b[39;49m\u001b[38;5;241;43m50\u001b[39;49m\u001b[43m,\u001b[49m\u001b[43m \u001b[49m\u001b[43mbatch_size\u001b[49m\u001b[38;5;241;43m=\u001b[39;49m\u001b[38;5;241;43m32\u001b[39;49m\u001b[43m,\u001b[49m\u001b[43m \u001b[49m\u001b[43mvalidation_split\u001b[49m\u001b[38;5;241;43m=\u001b[39;49m\u001b[38;5;241;43m0.1\u001b[39;49m\u001b[43m,\u001b[49m\u001b[43m \u001b[49m\u001b[43mshuffle\u001b[49m\u001b[38;5;241;43m=\u001b[39;49m\u001b[38;5;28;43;01mFalse\u001b[39;49;00m\u001b[43m)\u001b[49m\n",
      "File \u001b[1;32m~\\AppData\\Roaming\\Python\\Python311\\site-packages\\keras\\src\\utils\\traceback_utils.py:70\u001b[0m, in \u001b[0;36mfilter_traceback.<locals>.error_handler\u001b[1;34m(*args, **kwargs)\u001b[0m\n\u001b[0;32m     67\u001b[0m     filtered_tb \u001b[38;5;241m=\u001b[39m _process_traceback_frames(e\u001b[38;5;241m.\u001b[39m__traceback__)\n\u001b[0;32m     68\u001b[0m     \u001b[38;5;66;03m# To get the full stack trace, call:\u001b[39;00m\n\u001b[0;32m     69\u001b[0m     \u001b[38;5;66;03m# `tf.debugging.disable_traceback_filtering()`\u001b[39;00m\n\u001b[1;32m---> 70\u001b[0m     \u001b[38;5;28;01mraise\u001b[39;00m e\u001b[38;5;241m.\u001b[39mwith_traceback(filtered_tb) \u001b[38;5;28;01mfrom\u001b[39;00m \u001b[38;5;28;01mNone\u001b[39;00m\n\u001b[0;32m     71\u001b[0m \u001b[38;5;28;01mfinally\u001b[39;00m:\n\u001b[0;32m     72\u001b[0m     \u001b[38;5;28;01mdel\u001b[39;00m filtered_tb\n",
      "File \u001b[1;32mC:\\Users\\ANANTT~1\\AppData\\Local\\Temp\\__autograph_generated_filezzli6v4m.py:15\u001b[0m, in \u001b[0;36mouter_factory.<locals>.inner_factory.<locals>.tf__train_function\u001b[1;34m(iterator)\u001b[0m\n\u001b[0;32m     13\u001b[0m \u001b[38;5;28;01mtry\u001b[39;00m:\n\u001b[0;32m     14\u001b[0m     do_return \u001b[38;5;241m=\u001b[39m \u001b[38;5;28;01mTrue\u001b[39;00m\n\u001b[1;32m---> 15\u001b[0m     retval_ \u001b[38;5;241m=\u001b[39m ag__\u001b[38;5;241m.\u001b[39mconverted_call(ag__\u001b[38;5;241m.\u001b[39mld(step_function), (ag__\u001b[38;5;241m.\u001b[39mld(\u001b[38;5;28mself\u001b[39m), ag__\u001b[38;5;241m.\u001b[39mld(iterator)), \u001b[38;5;28;01mNone\u001b[39;00m, fscope)\n\u001b[0;32m     16\u001b[0m \u001b[38;5;28;01mexcept\u001b[39;00m:\n\u001b[0;32m     17\u001b[0m     do_return \u001b[38;5;241m=\u001b[39m \u001b[38;5;28;01mFalse\u001b[39;00m\n",
      "\u001b[1;31mValueError\u001b[0m: in user code:\n\n    File \"C:\\Users\\ANANT TIWARI\\AppData\\Roaming\\Python\\Python311\\site-packages\\keras\\src\\engine\\training.py\", line 1377, in train_function  *\n        return step_function(self, iterator)\n    File \"C:\\Users\\ANANT TIWARI\\AppData\\Roaming\\Python\\Python311\\site-packages\\keras\\src\\engine\\training.py\", line 1360, in step_function  **\n        outputs = model.distribute_strategy.run(run_step, args=(data,))\n    File \"C:\\Users\\ANANT TIWARI\\AppData\\Roaming\\Python\\Python311\\site-packages\\keras\\src\\engine\\training.py\", line 1349, in run_step  **\n        outputs = model.train_step(data)\n    File \"C:\\Users\\ANANT TIWARI\\AppData\\Roaming\\Python\\Python311\\site-packages\\keras\\src\\engine\\training.py\", line 1126, in train_step\n        y_pred = self(x, training=True)\n    File \"C:\\Users\\ANANT TIWARI\\AppData\\Roaming\\Python\\Python311\\site-packages\\keras\\src\\utils\\traceback_utils.py\", line 70, in error_handler\n        raise e.with_traceback(filtered_tb) from None\n    File \"C:\\Users\\ANANT TIWARI\\AppData\\Roaming\\Python\\Python311\\site-packages\\keras\\src\\engine\\input_spec.py\", line 298, in assert_input_compatibility\n        raise ValueError(\n\n    ValueError: Exception encountered when calling layer 'sequential_4' (type Sequential).\n    \n    Input 0 of layer \"lstm_16\" is incompatible with the layer: expected shape=(None, None, 2), found shape=(None, 50, 1)\n    \n    Call arguments received by layer 'sequential_4' (type Sequential):\n      • inputs=tf.Tensor(shape=(None, 50, 1), dtype=float32)\n      • training=True\n      • mask=None\n"
     ]
    }
   ],
   "source": [
    "# history = model.fit(X_train, X_train, epochs=50, batch_size=32, validation_split=0.1, shuffle=False)"
   ]
  },
  {
   "cell_type": "code",
   "execution_count": 24,
   "metadata": {},
   "outputs": [
    {
     "name": "stderr",
     "output_type": "stream",
     "text": [
      "C:\\Users\\ANANT TIWARI\\AppData\\Roaming\\Python\\Python311\\site-packages\\keras\\src\\engine\\training.py:3079: UserWarning: You are saving your model as an HDF5 file via `model.save()`. This file format is considered legacy. We recommend using instead the native Keras format, e.g. `model.save('my_model.keras')`.\n",
      "  saving_api.save_model(\n"
     ]
    }
   ],
   "source": [
    "model.save('model2.h5')"
   ]
  }
 ],
 "metadata": {
  "kernelspec": {
   "display_name": "Python 3",
   "language": "python",
   "name": "python3"
  },
  "language_info": {
   "codemirror_mode": {
    "name": "ipython",
    "version": 3
   },
   "file_extension": ".py",
   "mimetype": "text/x-python",
   "name": "python",
   "nbconvert_exporter": "python",
   "pygments_lexer": "ipython3",
   "version": "3.11.5"
  }
 },
 "nbformat": 4,
 "nbformat_minor": 2
}
