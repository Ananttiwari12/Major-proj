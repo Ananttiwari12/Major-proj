{
 "cells": [
  {
   "cell_type": "markdown",
   "metadata": {},
   "source": [
    "### Import libraries"
   ]
  },
  {
   "cell_type": "code",
   "execution_count": null,
   "metadata": {},
   "outputs": [],
   "source": [
    "import numpy as np\n",
    "import pandas as pd\n",
    "from sklearn.model_selection import StratifiedKFold\n",
    "from sklearn.preprocessing import StandardScaler, LabelEncoder\n",
    "import tensorflow as tf\n",
    "from tensorflow.keras.models import Sequential\n",
    "from tensorflow.keras.layers import Dense, Dropout\n",
    "from tensorflow.keras.regularizers import l2\n",
    "import matplotlib.pyplot as plt"
   ]
  },
  {
   "cell_type": "code",
   "execution_count": 2,
   "metadata": {},
   "outputs": [],
   "source": [
    "data= pd.read_csv(\"Combined_processed.csv\")"
   ]
  },
  {
   "cell_type": "code",
   "execution_count": 15,
   "metadata": {},
   "outputs": [
    {
     "name": "stdout",
     "output_type": "stream",
     "text": [
      "<class 'pandas.core.frame.DataFrame'>\n",
      "RangeIndex: 1215890 entries, 0 to 1215889\n",
      "Data columns (total 48 columns):\n",
      " #   Column            Non-Null Count    Dtype  \n",
      "---  ------            --------------    -----  \n",
      " 0   Seq               1215890 non-null  int64  \n",
      " 1   Dur               1215890 non-null  float64\n",
      " 2   sHops             1215890 non-null  float64\n",
      " 3   dHops             1215890 non-null  float64\n",
      " 4   TotPkts           1215890 non-null  int64  \n",
      " 5   SrcPkts           1215890 non-null  int64  \n",
      " 6   DstPkts           1215890 non-null  int64  \n",
      " 7   TotBytes          1215890 non-null  int64  \n",
      " 8   SrcBytes          1215890 non-null  int64  \n",
      " 9   DstBytes          1215890 non-null  int64  \n",
      " 10  Offset            1215890 non-null  int64  \n",
      " 11  sMeanPktSz        1215890 non-null  float64\n",
      " 12  dMeanPktSz        1215890 non-null  float64\n",
      " 13  Load              1215890 non-null  float64\n",
      " 14  SrcLoad           1215890 non-null  float64\n",
      " 15  DstLoad           1215890 non-null  float64\n",
      " 16  Loss              1215890 non-null  int64  \n",
      " 17  SrcLoss           1215890 non-null  int64  \n",
      " 18  DstLoss           1215890 non-null  int64  \n",
      " 19  pLoss             1215890 non-null  float64\n",
      " 20  Rate              1215890 non-null  float64\n",
      " 21  SrcRate           1215890 non-null  float64\n",
      " 22  DstRate           1215890 non-null  float64\n",
      " 23  TcpRtt            1215890 non-null  float64\n",
      " 24  SynAck            1215890 non-null  float64\n",
      " 25  AckDat            1215890 non-null  float64\n",
      " 26  sTos_             1215890 non-null  float64\n",
      " 27  dTos_             1215890 non-null  float64\n",
      " 28  sTtl_             1215890 non-null  float64\n",
      " 29  dTtl_             1215890 non-null  float64\n",
      " 30  SrcWin_           1215890 non-null  float64\n",
      " 31  DstWin_           1215890 non-null  float64\n",
      " 32  sVid_             1215890 non-null  float64\n",
      " 33  dVid_             1215890 non-null  float64\n",
      " 34  SrcTCPBase_       1215890 non-null  float64\n",
      " 35  DstTCPBase_       1215890 non-null  float64\n",
      " 36  Attack Type_      1215890 non-null  int64  \n",
      " 37  Proto_icmp        1215890 non-null  bool   \n",
      " 38  Proto_tcp         1215890 non-null  bool   \n",
      " 39  Proto_udp         1215890 non-null  bool   \n",
      " 40  Cause_Status      1215890 non-null  bool   \n",
      " 41  State_CON         1215890 non-null  bool   \n",
      " 42  State_ECO         1215890 non-null  bool   \n",
      " 43  State_FIN         1215890 non-null  bool   \n",
      " 44  State_INT         1215890 non-null  bool   \n",
      " 45  State_REQ         1215890 non-null  bool   \n",
      " 46  State_RST         1215890 non-null  bool   \n",
      " 47  Label__Malicious  1215890 non-null  bool   \n",
      "dtypes: bool(11), float64(25), int64(12)\n",
      "memory usage: 356.0 MB\n",
      "None\n",
      "   Seq       Dur  sHops  dHops  TotPkts  SrcPkts  DstPkts  TotBytes  SrcBytes  \\\n",
      "0    1  0.000000    6.0   99.0        1        1        0        98        98   \n",
      "1    2  0.000000    6.0   99.0        1        1        0        98        98   \n",
      "2    3  4.998020   11.0    0.0      214      196       18    249093    244212   \n",
      "3    4  4.998037   11.0    0.0      184      163       21    221712    216245   \n",
      "4    5  4.999453   11.0    0.0      223      204       19    280216    275723   \n",
      "\n",
      "   DstBytes  ...  Proto_tcp  Proto_udp  Cause_Status  State_CON  State_ECO  \\\n",
      "0         0  ...      False      False         False      False       True   \n",
      "1         0  ...      False      False         False      False       True   \n",
      "2      4881  ...      False       True         False       True      False   \n",
      "3      5467  ...      False       True         False       True      False   \n",
      "4      4493  ...      False       True         False       True      False   \n",
      "\n",
      "   State_FIN  State_INT  State_REQ  State_RST  Label__Malicious  \n",
      "0      False      False      False      False             False  \n",
      "1      False      False      False      False             False  \n",
      "2      False      False      False      False             False  \n",
      "3      False      False      False      False             False  \n",
      "4      False      False      False      False             False  \n",
      "\n",
      "[5 rows x 48 columns]\n"
     ]
    }
   ],
   "source": [
    "# Inspect data\n",
    "print(data.info())\n",
    "print(data.head())\n"
   ]
  },
  {
   "cell_type": "markdown",
   "metadata": {},
   "source": [
    "#### preprocess data"
   ]
  },
  {
   "cell_type": "code",
   "execution_count": 12,
   "metadata": {},
   "outputs": [],
   "source": [
    "# Numerical columns\n",
    "numerical_cols= data.select_dtypes(include=[np.number]).columns.tolist()\n",
    "# Categorical columns\n",
    "categorical_cols = data.select_dtypes(include=[bool]).columns.tolist()"
   ]
  },
  {
   "cell_type": "code",
   "execution_count": 16,
   "metadata": {},
   "outputs": [],
   "source": [
    "from sklearn.model_selection import train_test_split\n",
    "\n",
    "# Let's assume 'Label__Malicious' is your target variable\n",
    "X = data.drop(columns=[\"Label__Malicious\"])\n",
    "y = data[\"Label__Malicious\"]\n",
    "\n",
    "# First split into training and temp (temp will later be split into validation and test)\n",
    "X_train, X_temp, y_train, y_temp = train_test_split(X, y, test_size=0.2, random_state=42)\n",
    "\n",
    "# Then split temp into validation and test sets (each 10% of the full dataset)\n",
    "X_val, X_test, y_val, y_test = train_test_split(X_temp, y_temp, test_size=0.5, random_state=42)"
   ]
  },
  {
   "cell_type": "code",
   "execution_count": null,
   "metadata": {},
   "outputs": [],
   "source": [
    "# Suppose these are your categorical columns:\n",
    "categorical_cols = X_train.select_dtypes(include=[object]).columns.tolist()\n",
    "\n",
    "# Create a dictionary to store the encoders for each column\n",
    "encoders = {}\n",
    "for col in categorical_cols:\n",
    "    le = LabelEncoder()\n",
    "    # Fit on training data only\n",
    "    X_train[col] = le.fit_transform(X_train[col])\n",
    "    \n",
    "    # Transform validation and test sets using the same encoder\n",
    "    X_val[col] = le.transform(X_val[col])\n",
    "    X_test[col] = le.transform(X_test[col])\n",
    "    \n",
    "    encoders[col] = le  # Save encoder if you need to transform new data later\n"
   ]
  },
  {
   "cell_type": "code",
   "execution_count": null,
   "metadata": {},
   "outputs": [],
   "source": [
    "# Initialize the scaler\n",
    "scaler = StandardScaler()\n",
    "\n",
    "# Fit only on training data and transform it\n",
    "X_train_scaled = scaler.fit_transform(X_train)\n",
    "\n",
    "# Use the same scaler to transform validation and test sets\n",
    "X_val_scaled = scaler.transform(X_val)\n",
    "X_test_scaled = scaler.transform(X_test)\n"
   ]
  },
  {
   "cell_type": "code",
   "execution_count": 34,
   "metadata": {},
   "outputs": [],
   "source": [
    "X_scaled = scaler.fit_transform(X)"
   ]
  },
  {
   "cell_type": "code",
   "execution_count": 44,
   "metadata": {},
   "outputs": [
    {
     "name": "stdout",
     "output_type": "stream",
     "text": [
      "\n",
      "Fold 1\n",
      "Epoch 1/20\n",
      " 7060/25332 [=======>......................] - ETA: 29s - loss: 0.0454 - accuracy: 0.9969"
     ]
    },
    {
     "ename": "KeyboardInterrupt",
     "evalue": "",
     "output_type": "error",
     "traceback": [
      "\u001b[1;31m---------------------------------------------------------------------------\u001b[0m",
      "\u001b[1;31mKeyboardInterrupt\u001b[0m                         Traceback (most recent call last)",
      "Cell \u001b[1;32mIn[44], line 28\u001b[0m\n\u001b[0;32m     25\u001b[0m model\u001b[38;5;241m.\u001b[39mcompile(optimizer\u001b[38;5;241m=\u001b[39m\u001b[38;5;124m'\u001b[39m\u001b[38;5;124madam\u001b[39m\u001b[38;5;124m'\u001b[39m, loss\u001b[38;5;241m=\u001b[39m\u001b[38;5;124m'\u001b[39m\u001b[38;5;124mbinary_crossentropy\u001b[39m\u001b[38;5;124m'\u001b[39m, metrics\u001b[38;5;241m=\u001b[39m[\u001b[38;5;124m'\u001b[39m\u001b[38;5;124maccuracy\u001b[39m\u001b[38;5;124m'\u001b[39m])\n\u001b[0;32m     27\u001b[0m \u001b[38;5;66;03m# Train the model with validation_data set to the test set to track validation loss\u001b[39;00m\n\u001b[1;32m---> 28\u001b[0m history \u001b[38;5;241m=\u001b[39m \u001b[43mmodel\u001b[49m\u001b[38;5;241;43m.\u001b[39;49m\u001b[43mfit\u001b[49m\u001b[43m(\u001b[49m\u001b[43mX_train\u001b[49m\u001b[43m,\u001b[49m\u001b[43m \u001b[49m\u001b[43my_train\u001b[49m\u001b[43m,\u001b[49m\n\u001b[0;32m     29\u001b[0m \u001b[43m                    \u001b[49m\u001b[43mvalidation_data\u001b[49m\u001b[38;5;241;43m=\u001b[39;49m\u001b[43m(\u001b[49m\u001b[43mX_test\u001b[49m\u001b[43m,\u001b[49m\u001b[43m \u001b[49m\u001b[43my_test\u001b[49m\u001b[43m)\u001b[49m\u001b[43m,\u001b[49m\n\u001b[0;32m     30\u001b[0m \u001b[43m                    \u001b[49m\u001b[43mepochs\u001b[49m\u001b[38;5;241;43m=\u001b[39;49m\u001b[38;5;241;43m20\u001b[39;49m\u001b[43m,\u001b[49m\n\u001b[0;32m     31\u001b[0m \u001b[43m                    \u001b[49m\u001b[43mbatch_size\u001b[49m\u001b[38;5;241;43m=\u001b[39;49m\u001b[38;5;241;43m32\u001b[39;49m\u001b[43m,\u001b[49m\n\u001b[0;32m     32\u001b[0m \u001b[43m                    \u001b[49m\u001b[43mverbose\u001b[49m\u001b[38;5;241;43m=\u001b[39;49m\u001b[38;5;241;43m1\u001b[39;49m\u001b[43m)\u001b[49m  \u001b[38;5;66;03m# Change verbose=1 to see training progress\u001b[39;00m\n\u001b[0;32m     34\u001b[0m \u001b[38;5;66;03m# Evaluate on the test set for this fold\u001b[39;00m\n\u001b[0;32m     35\u001b[0m loss, accuracy \u001b[38;5;241m=\u001b[39m model\u001b[38;5;241m.\u001b[39mevaluate(X_test, y_test, verbose\u001b[38;5;241m=\u001b[39m\u001b[38;5;241m0\u001b[39m)\n",
      "File \u001b[1;32m~\\AppData\\Roaming\\Python\\Python311\\site-packages\\keras\\src\\utils\\traceback_utils.py:65\u001b[0m, in \u001b[0;36mfilter_traceback.<locals>.error_handler\u001b[1;34m(*args, **kwargs)\u001b[0m\n\u001b[0;32m     63\u001b[0m filtered_tb \u001b[38;5;241m=\u001b[39m \u001b[38;5;28;01mNone\u001b[39;00m\n\u001b[0;32m     64\u001b[0m \u001b[38;5;28;01mtry\u001b[39;00m:\n\u001b[1;32m---> 65\u001b[0m     \u001b[38;5;28;01mreturn\u001b[39;00m \u001b[43mfn\u001b[49m\u001b[43m(\u001b[49m\u001b[38;5;241;43m*\u001b[39;49m\u001b[43margs\u001b[49m\u001b[43m,\u001b[49m\u001b[43m \u001b[49m\u001b[38;5;241;43m*\u001b[39;49m\u001b[38;5;241;43m*\u001b[39;49m\u001b[43mkwargs\u001b[49m\u001b[43m)\u001b[49m\n\u001b[0;32m     66\u001b[0m \u001b[38;5;28;01mexcept\u001b[39;00m \u001b[38;5;167;01mException\u001b[39;00m \u001b[38;5;28;01mas\u001b[39;00m e:\n\u001b[0;32m     67\u001b[0m     filtered_tb \u001b[38;5;241m=\u001b[39m _process_traceback_frames(e\u001b[38;5;241m.\u001b[39m__traceback__)\n",
      "File \u001b[1;32m~\\AppData\\Roaming\\Python\\Python311\\site-packages\\keras\\src\\engine\\training.py:1783\u001b[0m, in \u001b[0;36mModel.fit\u001b[1;34m(self, x, y, batch_size, epochs, verbose, callbacks, validation_split, validation_data, shuffle, class_weight, sample_weight, initial_epoch, steps_per_epoch, validation_steps, validation_batch_size, validation_freq, max_queue_size, workers, use_multiprocessing)\u001b[0m\n\u001b[0;32m   1775\u001b[0m \u001b[38;5;28;01mwith\u001b[39;00m tf\u001b[38;5;241m.\u001b[39mprofiler\u001b[38;5;241m.\u001b[39mexperimental\u001b[38;5;241m.\u001b[39mTrace(\n\u001b[0;32m   1776\u001b[0m     \u001b[38;5;124m\"\u001b[39m\u001b[38;5;124mtrain\u001b[39m\u001b[38;5;124m\"\u001b[39m,\n\u001b[0;32m   1777\u001b[0m     epoch_num\u001b[38;5;241m=\u001b[39mepoch,\n\u001b[1;32m   (...)\u001b[0m\n\u001b[0;32m   1780\u001b[0m     _r\u001b[38;5;241m=\u001b[39m\u001b[38;5;241m1\u001b[39m,\n\u001b[0;32m   1781\u001b[0m ):\n\u001b[0;32m   1782\u001b[0m     callbacks\u001b[38;5;241m.\u001b[39mon_train_batch_begin(step)\n\u001b[1;32m-> 1783\u001b[0m     tmp_logs \u001b[38;5;241m=\u001b[39m \u001b[38;5;28;43mself\u001b[39;49m\u001b[38;5;241;43m.\u001b[39;49m\u001b[43mtrain_function\u001b[49m\u001b[43m(\u001b[49m\u001b[43miterator\u001b[49m\u001b[43m)\u001b[49m\n\u001b[0;32m   1784\u001b[0m     \u001b[38;5;28;01mif\u001b[39;00m data_handler\u001b[38;5;241m.\u001b[39mshould_sync:\n\u001b[0;32m   1785\u001b[0m         context\u001b[38;5;241m.\u001b[39masync_wait()\n",
      "File \u001b[1;32m~\\AppData\\Roaming\\Python\\Python311\\site-packages\\tensorflow\\python\\util\\traceback_utils.py:150\u001b[0m, in \u001b[0;36mfilter_traceback.<locals>.error_handler\u001b[1;34m(*args, **kwargs)\u001b[0m\n\u001b[0;32m    148\u001b[0m filtered_tb \u001b[38;5;241m=\u001b[39m \u001b[38;5;28;01mNone\u001b[39;00m\n\u001b[0;32m    149\u001b[0m \u001b[38;5;28;01mtry\u001b[39;00m:\n\u001b[1;32m--> 150\u001b[0m   \u001b[38;5;28;01mreturn\u001b[39;00m \u001b[43mfn\u001b[49m\u001b[43m(\u001b[49m\u001b[38;5;241;43m*\u001b[39;49m\u001b[43margs\u001b[49m\u001b[43m,\u001b[49m\u001b[43m \u001b[49m\u001b[38;5;241;43m*\u001b[39;49m\u001b[38;5;241;43m*\u001b[39;49m\u001b[43mkwargs\u001b[49m\u001b[43m)\u001b[49m\n\u001b[0;32m    151\u001b[0m \u001b[38;5;28;01mexcept\u001b[39;00m \u001b[38;5;167;01mException\u001b[39;00m \u001b[38;5;28;01mas\u001b[39;00m e:\n\u001b[0;32m    152\u001b[0m   filtered_tb \u001b[38;5;241m=\u001b[39m _process_traceback_frames(e\u001b[38;5;241m.\u001b[39m__traceback__)\n",
      "File \u001b[1;32m~\\AppData\\Roaming\\Python\\Python311\\site-packages\\tensorflow\\python\\eager\\polymorphic_function\\polymorphic_function.py:831\u001b[0m, in \u001b[0;36mFunction.__call__\u001b[1;34m(self, *args, **kwds)\u001b[0m\n\u001b[0;32m    828\u001b[0m compiler \u001b[38;5;241m=\u001b[39m \u001b[38;5;124m\"\u001b[39m\u001b[38;5;124mxla\u001b[39m\u001b[38;5;124m\"\u001b[39m \u001b[38;5;28;01mif\u001b[39;00m \u001b[38;5;28mself\u001b[39m\u001b[38;5;241m.\u001b[39m_jit_compile \u001b[38;5;28;01melse\u001b[39;00m \u001b[38;5;124m\"\u001b[39m\u001b[38;5;124mnonXla\u001b[39m\u001b[38;5;124m\"\u001b[39m\n\u001b[0;32m    830\u001b[0m \u001b[38;5;28;01mwith\u001b[39;00m OptionalXlaContext(\u001b[38;5;28mself\u001b[39m\u001b[38;5;241m.\u001b[39m_jit_compile):\n\u001b[1;32m--> 831\u001b[0m   result \u001b[38;5;241m=\u001b[39m \u001b[38;5;28;43mself\u001b[39;49m\u001b[38;5;241;43m.\u001b[39;49m\u001b[43m_call\u001b[49m\u001b[43m(\u001b[49m\u001b[38;5;241;43m*\u001b[39;49m\u001b[43margs\u001b[49m\u001b[43m,\u001b[49m\u001b[43m \u001b[49m\u001b[38;5;241;43m*\u001b[39;49m\u001b[38;5;241;43m*\u001b[39;49m\u001b[43mkwds\u001b[49m\u001b[43m)\u001b[49m\n\u001b[0;32m    833\u001b[0m new_tracing_count \u001b[38;5;241m=\u001b[39m \u001b[38;5;28mself\u001b[39m\u001b[38;5;241m.\u001b[39mexperimental_get_tracing_count()\n\u001b[0;32m    834\u001b[0m without_tracing \u001b[38;5;241m=\u001b[39m (tracing_count \u001b[38;5;241m==\u001b[39m new_tracing_count)\n",
      "File \u001b[1;32m~\\AppData\\Roaming\\Python\\Python311\\site-packages\\tensorflow\\python\\eager\\polymorphic_function\\polymorphic_function.py:867\u001b[0m, in \u001b[0;36mFunction._call\u001b[1;34m(self, *args, **kwds)\u001b[0m\n\u001b[0;32m    864\u001b[0m   \u001b[38;5;28mself\u001b[39m\u001b[38;5;241m.\u001b[39m_lock\u001b[38;5;241m.\u001b[39mrelease()\n\u001b[0;32m    865\u001b[0m   \u001b[38;5;66;03m# In this case we have created variables on the first call, so we run the\u001b[39;00m\n\u001b[0;32m    866\u001b[0m   \u001b[38;5;66;03m# defunned version which is guaranteed to never create variables.\u001b[39;00m\n\u001b[1;32m--> 867\u001b[0m   \u001b[38;5;28;01mreturn\u001b[39;00m \u001b[43mtracing_compilation\u001b[49m\u001b[38;5;241;43m.\u001b[39;49m\u001b[43mcall_function\u001b[49m\u001b[43m(\u001b[49m\n\u001b[0;32m    868\u001b[0m \u001b[43m      \u001b[49m\u001b[43margs\u001b[49m\u001b[43m,\u001b[49m\u001b[43m \u001b[49m\u001b[43mkwds\u001b[49m\u001b[43m,\u001b[49m\u001b[43m \u001b[49m\u001b[38;5;28;43mself\u001b[39;49m\u001b[38;5;241;43m.\u001b[39;49m\u001b[43m_no_variable_creation_config\u001b[49m\n\u001b[0;32m    869\u001b[0m \u001b[43m  \u001b[49m\u001b[43m)\u001b[49m\n\u001b[0;32m    870\u001b[0m \u001b[38;5;28;01melif\u001b[39;00m \u001b[38;5;28mself\u001b[39m\u001b[38;5;241m.\u001b[39m_variable_creation_config \u001b[38;5;129;01mis\u001b[39;00m \u001b[38;5;129;01mnot\u001b[39;00m \u001b[38;5;28;01mNone\u001b[39;00m:\n\u001b[0;32m    871\u001b[0m   \u001b[38;5;66;03m# Release the lock early so that multiple threads can perform the call\u001b[39;00m\n\u001b[0;32m    872\u001b[0m   \u001b[38;5;66;03m# in parallel.\u001b[39;00m\n\u001b[0;32m    873\u001b[0m   \u001b[38;5;28mself\u001b[39m\u001b[38;5;241m.\u001b[39m_lock\u001b[38;5;241m.\u001b[39mrelease()\n",
      "File \u001b[1;32m~\\AppData\\Roaming\\Python\\Python311\\site-packages\\tensorflow\\python\\eager\\polymorphic_function\\tracing_compilation.py:139\u001b[0m, in \u001b[0;36mcall_function\u001b[1;34m(args, kwargs, tracing_options)\u001b[0m\n\u001b[0;32m    137\u001b[0m bound_args \u001b[38;5;241m=\u001b[39m function\u001b[38;5;241m.\u001b[39mfunction_type\u001b[38;5;241m.\u001b[39mbind(\u001b[38;5;241m*\u001b[39margs, \u001b[38;5;241m*\u001b[39m\u001b[38;5;241m*\u001b[39mkwargs)\n\u001b[0;32m    138\u001b[0m flat_inputs \u001b[38;5;241m=\u001b[39m function\u001b[38;5;241m.\u001b[39mfunction_type\u001b[38;5;241m.\u001b[39munpack_inputs(bound_args)\n\u001b[1;32m--> 139\u001b[0m \u001b[38;5;28;01mreturn\u001b[39;00m \u001b[43mfunction\u001b[49m\u001b[38;5;241;43m.\u001b[39;49m\u001b[43m_call_flat\u001b[49m\u001b[43m(\u001b[49m\u001b[43m  \u001b[49m\u001b[38;5;66;43;03m# pylint: disable=protected-access\u001b[39;49;00m\n\u001b[0;32m    140\u001b[0m \u001b[43m    \u001b[49m\u001b[43mflat_inputs\u001b[49m\u001b[43m,\u001b[49m\u001b[43m \u001b[49m\u001b[43mcaptured_inputs\u001b[49m\u001b[38;5;241;43m=\u001b[39;49m\u001b[43mfunction\u001b[49m\u001b[38;5;241;43m.\u001b[39;49m\u001b[43mcaptured_inputs\u001b[49m\n\u001b[0;32m    141\u001b[0m \u001b[43m\u001b[49m\u001b[43m)\u001b[49m\n",
      "File \u001b[1;32m~\\AppData\\Roaming\\Python\\Python311\\site-packages\\tensorflow\\python\\eager\\polymorphic_function\\concrete_function.py:1264\u001b[0m, in \u001b[0;36mConcreteFunction._call_flat\u001b[1;34m(self, tensor_inputs, captured_inputs)\u001b[0m\n\u001b[0;32m   1260\u001b[0m possible_gradient_type \u001b[38;5;241m=\u001b[39m gradients_util\u001b[38;5;241m.\u001b[39mPossibleTapeGradientTypes(args)\n\u001b[0;32m   1261\u001b[0m \u001b[38;5;28;01mif\u001b[39;00m (possible_gradient_type \u001b[38;5;241m==\u001b[39m gradients_util\u001b[38;5;241m.\u001b[39mPOSSIBLE_GRADIENT_TYPES_NONE\n\u001b[0;32m   1262\u001b[0m     \u001b[38;5;129;01mand\u001b[39;00m executing_eagerly):\n\u001b[0;32m   1263\u001b[0m   \u001b[38;5;66;03m# No tape is watching; skip to running the function.\u001b[39;00m\n\u001b[1;32m-> 1264\u001b[0m   \u001b[38;5;28;01mreturn\u001b[39;00m \u001b[38;5;28;43mself\u001b[39;49m\u001b[38;5;241;43m.\u001b[39;49m\u001b[43m_inference_function\u001b[49m\u001b[38;5;241;43m.\u001b[39;49m\u001b[43mflat_call\u001b[49m\u001b[43m(\u001b[49m\u001b[43margs\u001b[49m\u001b[43m)\u001b[49m\n\u001b[0;32m   1265\u001b[0m forward_backward \u001b[38;5;241m=\u001b[39m \u001b[38;5;28mself\u001b[39m\u001b[38;5;241m.\u001b[39m_select_forward_and_backward_functions(\n\u001b[0;32m   1266\u001b[0m     args,\n\u001b[0;32m   1267\u001b[0m     possible_gradient_type,\n\u001b[0;32m   1268\u001b[0m     executing_eagerly)\n\u001b[0;32m   1269\u001b[0m forward_function, args_with_tangents \u001b[38;5;241m=\u001b[39m forward_backward\u001b[38;5;241m.\u001b[39mforward()\n",
      "File \u001b[1;32m~\\AppData\\Roaming\\Python\\Python311\\site-packages\\tensorflow\\python\\eager\\polymorphic_function\\atomic_function.py:217\u001b[0m, in \u001b[0;36mAtomicFunction.flat_call\u001b[1;34m(self, args)\u001b[0m\n\u001b[0;32m    215\u001b[0m \u001b[38;5;28;01mdef\u001b[39;00m \u001b[38;5;21mflat_call\u001b[39m(\u001b[38;5;28mself\u001b[39m, args: Sequence[core\u001b[38;5;241m.\u001b[39mTensor]) \u001b[38;5;241m-\u001b[39m\u001b[38;5;241m>\u001b[39m Any:\n\u001b[0;32m    216\u001b[0m \u001b[38;5;250m  \u001b[39m\u001b[38;5;124;03m\"\"\"Calls with tensor inputs and returns the structured output.\"\"\"\u001b[39;00m\n\u001b[1;32m--> 217\u001b[0m   flat_outputs \u001b[38;5;241m=\u001b[39m \u001b[38;5;28;43mself\u001b[39;49m\u001b[43m(\u001b[49m\u001b[38;5;241;43m*\u001b[39;49m\u001b[43margs\u001b[49m\u001b[43m)\u001b[49m\n\u001b[0;32m    218\u001b[0m   \u001b[38;5;28;01mreturn\u001b[39;00m \u001b[38;5;28mself\u001b[39m\u001b[38;5;241m.\u001b[39mfunction_type\u001b[38;5;241m.\u001b[39mpack_output(flat_outputs)\n",
      "File \u001b[1;32m~\\AppData\\Roaming\\Python\\Python311\\site-packages\\tensorflow\\python\\eager\\polymorphic_function\\atomic_function.py:252\u001b[0m, in \u001b[0;36mAtomicFunction.__call__\u001b[1;34m(self, *args)\u001b[0m\n\u001b[0;32m    250\u001b[0m \u001b[38;5;28;01mwith\u001b[39;00m record\u001b[38;5;241m.\u001b[39mstop_recording():\n\u001b[0;32m    251\u001b[0m   \u001b[38;5;28;01mif\u001b[39;00m \u001b[38;5;28mself\u001b[39m\u001b[38;5;241m.\u001b[39m_bound_context\u001b[38;5;241m.\u001b[39mexecuting_eagerly():\n\u001b[1;32m--> 252\u001b[0m     outputs \u001b[38;5;241m=\u001b[39m \u001b[38;5;28;43mself\u001b[39;49m\u001b[38;5;241;43m.\u001b[39;49m\u001b[43m_bound_context\u001b[49m\u001b[38;5;241;43m.\u001b[39;49m\u001b[43mcall_function\u001b[49m\u001b[43m(\u001b[49m\n\u001b[0;32m    253\u001b[0m \u001b[43m        \u001b[49m\u001b[38;5;28;43mself\u001b[39;49m\u001b[38;5;241;43m.\u001b[39;49m\u001b[43mname\u001b[49m\u001b[43m,\u001b[49m\n\u001b[0;32m    254\u001b[0m \u001b[43m        \u001b[49m\u001b[38;5;28;43mlist\u001b[39;49m\u001b[43m(\u001b[49m\u001b[43margs\u001b[49m\u001b[43m)\u001b[49m\u001b[43m,\u001b[49m\n\u001b[0;32m    255\u001b[0m \u001b[43m        \u001b[49m\u001b[38;5;28;43mlen\u001b[39;49m\u001b[43m(\u001b[49m\u001b[38;5;28;43mself\u001b[39;49m\u001b[38;5;241;43m.\u001b[39;49m\u001b[43mfunction_type\u001b[49m\u001b[38;5;241;43m.\u001b[39;49m\u001b[43mflat_outputs\u001b[49m\u001b[43m)\u001b[49m\u001b[43m,\u001b[49m\n\u001b[0;32m    256\u001b[0m \u001b[43m    \u001b[49m\u001b[43m)\u001b[49m\n\u001b[0;32m    257\u001b[0m   \u001b[38;5;28;01melse\u001b[39;00m:\n\u001b[0;32m    258\u001b[0m     outputs \u001b[38;5;241m=\u001b[39m make_call_op_in_graph(\n\u001b[0;32m    259\u001b[0m         \u001b[38;5;28mself\u001b[39m,\n\u001b[0;32m    260\u001b[0m         \u001b[38;5;28mlist\u001b[39m(args),\n\u001b[0;32m    261\u001b[0m         \u001b[38;5;28mself\u001b[39m\u001b[38;5;241m.\u001b[39m_bound_context\u001b[38;5;241m.\u001b[39mfunction_call_options\u001b[38;5;241m.\u001b[39mas_attrs(),\n\u001b[0;32m    262\u001b[0m     )\n",
      "File \u001b[1;32m~\\AppData\\Roaming\\Python\\Python311\\site-packages\\tensorflow\\python\\eager\\context.py:1479\u001b[0m, in \u001b[0;36mContext.call_function\u001b[1;34m(self, name, tensor_inputs, num_outputs)\u001b[0m\n\u001b[0;32m   1477\u001b[0m cancellation_context \u001b[38;5;241m=\u001b[39m cancellation\u001b[38;5;241m.\u001b[39mcontext()\n\u001b[0;32m   1478\u001b[0m \u001b[38;5;28;01mif\u001b[39;00m cancellation_context \u001b[38;5;129;01mis\u001b[39;00m \u001b[38;5;28;01mNone\u001b[39;00m:\n\u001b[1;32m-> 1479\u001b[0m   outputs \u001b[38;5;241m=\u001b[39m \u001b[43mexecute\u001b[49m\u001b[38;5;241;43m.\u001b[39;49m\u001b[43mexecute\u001b[49m\u001b[43m(\u001b[49m\n\u001b[0;32m   1480\u001b[0m \u001b[43m      \u001b[49m\u001b[43mname\u001b[49m\u001b[38;5;241;43m.\u001b[39;49m\u001b[43mdecode\u001b[49m\u001b[43m(\u001b[49m\u001b[38;5;124;43m\"\u001b[39;49m\u001b[38;5;124;43mutf-8\u001b[39;49m\u001b[38;5;124;43m\"\u001b[39;49m\u001b[43m)\u001b[49m\u001b[43m,\u001b[49m\n\u001b[0;32m   1481\u001b[0m \u001b[43m      \u001b[49m\u001b[43mnum_outputs\u001b[49m\u001b[38;5;241;43m=\u001b[39;49m\u001b[43mnum_outputs\u001b[49m\u001b[43m,\u001b[49m\n\u001b[0;32m   1482\u001b[0m \u001b[43m      \u001b[49m\u001b[43minputs\u001b[49m\u001b[38;5;241;43m=\u001b[39;49m\u001b[43mtensor_inputs\u001b[49m\u001b[43m,\u001b[49m\n\u001b[0;32m   1483\u001b[0m \u001b[43m      \u001b[49m\u001b[43mattrs\u001b[49m\u001b[38;5;241;43m=\u001b[39;49m\u001b[43mattrs\u001b[49m\u001b[43m,\u001b[49m\n\u001b[0;32m   1484\u001b[0m \u001b[43m      \u001b[49m\u001b[43mctx\u001b[49m\u001b[38;5;241;43m=\u001b[39;49m\u001b[38;5;28;43mself\u001b[39;49m\u001b[43m,\u001b[49m\n\u001b[0;32m   1485\u001b[0m \u001b[43m  \u001b[49m\u001b[43m)\u001b[49m\n\u001b[0;32m   1486\u001b[0m \u001b[38;5;28;01melse\u001b[39;00m:\n\u001b[0;32m   1487\u001b[0m   outputs \u001b[38;5;241m=\u001b[39m execute\u001b[38;5;241m.\u001b[39mexecute_with_cancellation(\n\u001b[0;32m   1488\u001b[0m       name\u001b[38;5;241m.\u001b[39mdecode(\u001b[38;5;124m\"\u001b[39m\u001b[38;5;124mutf-8\u001b[39m\u001b[38;5;124m\"\u001b[39m),\n\u001b[0;32m   1489\u001b[0m       num_outputs\u001b[38;5;241m=\u001b[39mnum_outputs,\n\u001b[1;32m   (...)\u001b[0m\n\u001b[0;32m   1493\u001b[0m       cancellation_manager\u001b[38;5;241m=\u001b[39mcancellation_context,\n\u001b[0;32m   1494\u001b[0m   )\n",
      "File \u001b[1;32m~\\AppData\\Roaming\\Python\\Python311\\site-packages\\tensorflow\\python\\eager\\execute.py:60\u001b[0m, in \u001b[0;36mquick_execute\u001b[1;34m(op_name, num_outputs, inputs, attrs, ctx, name)\u001b[0m\n\u001b[0;32m     53\u001b[0m   \u001b[38;5;66;03m# Convert any objects of type core_types.Tensor to Tensor.\u001b[39;00m\n\u001b[0;32m     54\u001b[0m   inputs \u001b[38;5;241m=\u001b[39m [\n\u001b[0;32m     55\u001b[0m       tensor_conversion_registry\u001b[38;5;241m.\u001b[39mconvert(t)\n\u001b[0;32m     56\u001b[0m       \u001b[38;5;28;01mif\u001b[39;00m \u001b[38;5;28misinstance\u001b[39m(t, core_types\u001b[38;5;241m.\u001b[39mTensor)\n\u001b[0;32m     57\u001b[0m       \u001b[38;5;28;01melse\u001b[39;00m t\n\u001b[0;32m     58\u001b[0m       \u001b[38;5;28;01mfor\u001b[39;00m t \u001b[38;5;129;01min\u001b[39;00m inputs\n\u001b[0;32m     59\u001b[0m   ]\n\u001b[1;32m---> 60\u001b[0m   tensors \u001b[38;5;241m=\u001b[39m \u001b[43mpywrap_tfe\u001b[49m\u001b[38;5;241;43m.\u001b[39;49m\u001b[43mTFE_Py_Execute\u001b[49m\u001b[43m(\u001b[49m\u001b[43mctx\u001b[49m\u001b[38;5;241;43m.\u001b[39;49m\u001b[43m_handle\u001b[49m\u001b[43m,\u001b[49m\u001b[43m \u001b[49m\u001b[43mdevice_name\u001b[49m\u001b[43m,\u001b[49m\u001b[43m \u001b[49m\u001b[43mop_name\u001b[49m\u001b[43m,\u001b[49m\n\u001b[0;32m     61\u001b[0m \u001b[43m                                      \u001b[49m\u001b[43minputs\u001b[49m\u001b[43m,\u001b[49m\u001b[43m \u001b[49m\u001b[43mattrs\u001b[49m\u001b[43m,\u001b[49m\u001b[43m \u001b[49m\u001b[43mnum_outputs\u001b[49m\u001b[43m)\u001b[49m\n\u001b[0;32m     62\u001b[0m \u001b[38;5;28;01mexcept\u001b[39;00m core\u001b[38;5;241m.\u001b[39m_NotOkStatusException \u001b[38;5;28;01mas\u001b[39;00m e:\n\u001b[0;32m     63\u001b[0m   \u001b[38;5;28;01mif\u001b[39;00m name \u001b[38;5;129;01mis\u001b[39;00m \u001b[38;5;129;01mnot\u001b[39;00m \u001b[38;5;28;01mNone\u001b[39;00m:\n",
      "\u001b[1;31mKeyboardInterrupt\u001b[0m: "
     ]
    }
   ],
   "source": [
    "# -----------------------\n",
    "# Set Up 5-Fold Cross-Validation (No Sampling)\n",
    "# -----------------------\n",
    "skf = StratifiedKFold(n_splits=3, shuffle=True, random_state=42)\n",
    "fold_scores = []\n",
    "\n",
    "for fold, (train_index, test_index) in enumerate(skf.split(X_scaled, y), 1):\n",
    "    print(f\"\\nFold {fold}\")\n",
    "    \n",
    "    # Split data for this fold\n",
    "    X_train, X_test = X_scaled[train_index], X_scaled[test_index]\n",
    "    y_train, y_test = y[train_index], y[test_index]\n",
    "    \n",
    "    # Build the Neural Network Model with regularization:\n",
    "    # - L2 regularization on Dense layers\n",
    "    # - Dropout layers for additional regularization\n",
    "    model = Sequential([\n",
    "        Dense(64, activation='relu', kernel_regularizer=l2(0.001), \n",
    "              input_shape=(X_train.shape[1],)),\n",
    "        Dropout(0.3),\n",
    "        Dense(32, activation='relu', kernel_regularizer=l2(0.001)),\n",
    "        Dropout(0.3),\n",
    "        Dense(1, activation='sigmoid')  # For binary classification\n",
    "    ])\n",
    "    model.compile(optimizer='adam', loss='binary_crossentropy', metrics=['accuracy'])\n",
    "    \n",
    "    # Train the model with validation_data set to the test set to track validation loss\n",
    "    history = model.fit(X_train, y_train,\n",
    "                        validation_data=(X_test, y_test),\n",
    "                        epochs=20,\n",
    "                        batch_size=32,\n",
    "                        verbose=1)  # Change verbose=1 to see training progress\n",
    "    \n",
    "    # Evaluate on the test set for this fold\n",
    "    loss, accuracy = model.evaluate(X_test, y_test, verbose=0)\n",
    "    print(f\"Fold {fold} Accuracy: {accuracy:.4f}\")\n",
    "    fold_scores.append(accuracy)\n",
    "    \n",
    "    # Plot the training and validation loss for this fold\n",
    "    plt.figure(figsize=(8, 6))\n",
    "    plt.plot(history.history['loss'], label='Training Loss')\n",
    "    plt.plot(history.history['val_loss'], label='Validation Loss')\n",
    "    plt.title(f'Fold {fold} Loss Curves')\n",
    "    plt.xlabel('Epoch')\n",
    "    plt.ylabel('Loss')\n",
    "    plt.legend()\n",
    "    plt.show()\n"
   ]
  },
  {
   "cell_type": "markdown",
   "metadata": {},
   "source": [
    "# Bringing everything together"
   ]
  },
  {
   "cell_type": "code",
   "execution_count": 1,
   "metadata": {},
   "outputs": [],
   "source": [
    "import pandas as pd\n",
    "import numpy as np\n",
    "import matplotlib.pyplot as plt\n",
    "\n",
    "# For feature selection\n",
    "from sklearn.feature_selection import SelectKBest, chi2\n",
    "\n",
    "# For encoding and scaling\n",
    "from sklearn.preprocessing import LabelEncoder, StandardScaler\n",
    "from sklearn.model_selection import train_test_split\n",
    "\n",
    "# For building the neural network\n",
    "import tensorflow as tf\n",
    "from tensorflow.keras.models import Sequential\n",
    "from tensorflow.keras.layers import Dense, Dropout\n",
    "from tensorflow.keras.regularizers import l2"
   ]
  },
  {
   "cell_type": "code",
   "execution_count": 2,
   "metadata": {},
   "outputs": [],
   "source": [
    "# Load the Dataset\n",
    "data = pd.read_csv(\"Combined_processed.csv\")"
   ]
  },
  {
   "cell_type": "markdown",
   "metadata": {},
   "source": [
    "### Data Cleaning"
   ]
  },
  {
   "cell_type": "code",
   "execution_count": 3,
   "metadata": {},
   "outputs": [
    {
     "name": "stdout",
     "output_type": "stream",
     "text": [
      "Dropping columns with >90% zeros: ['Loss', 'SrcLoss', 'DstLoss', 'pLoss', 'sTos_', 'dTos_', 'Proto_icmp', 'State_ECO', 'State_FIN', 'State_RST']\n"
     ]
    }
   ],
   "source": [
    "# a. Drop columns with >90% zeros\n",
    "zero_ratio = (data == 0).sum() / data.shape[0]\n",
    "columns_to_drop_zero = zero_ratio[zero_ratio > 0.9].index.tolist()\n",
    "print(\"Dropping columns with >90% zeros:\", columns_to_drop_zero)\n",
    "data = data.drop(columns=columns_to_drop_zero)\n",
    "\n",
    "# b. Drop columns with any null values\n",
    "data = data.dropna(axis=1)\n",
    "\n",
    "# c. Drop columns that are constant (only one unique value)\n",
    "data = data.loc[:, data.nunique() > 1]\n",
    "\n",
    "# d. Drop obviously irrelevant features (e.g., source/destination IPs/ports)\n",
    "columns_to_drop_irrelevant = [\n",
    "    'SrcIP', 'DstIP', 'SrcPort', 'DstPort',\n",
    "    'sVid_', 'dVid_', 'SrcTCPBase_', 'DstTCPBase_', 'Attack Type_'\n",
    "]\n",
    "data = data.drop(columns=[col for col in columns_to_drop_irrelevant if col in data.columns], errors='ignore')"
   ]
  },
  {
   "cell_type": "code",
   "execution_count": 4,
   "metadata": {},
   "outputs": [
    {
     "name": "stdout",
     "output_type": "stream",
     "text": [
      "<class 'pandas.core.frame.DataFrame'>\n",
      "RangeIndex: 1215890 entries, 0 to 1215889\n",
      "Data columns (total 33 columns):\n",
      " #   Column            Non-Null Count    Dtype  \n",
      "---  ------            --------------    -----  \n",
      " 0   Seq               1215890 non-null  int64  \n",
      " 1   Dur               1215890 non-null  float64\n",
      " 2   sHops             1215890 non-null  float64\n",
      " 3   dHops             1215890 non-null  float64\n",
      " 4   TotPkts           1215890 non-null  int64  \n",
      " 5   SrcPkts           1215890 non-null  int64  \n",
      " 6   DstPkts           1215890 non-null  int64  \n",
      " 7   TotBytes          1215890 non-null  int64  \n",
      " 8   SrcBytes          1215890 non-null  int64  \n",
      " 9   DstBytes          1215890 non-null  int64  \n",
      " 10  Offset            1215890 non-null  int64  \n",
      " 11  sMeanPktSz        1215890 non-null  float64\n",
      " 12  dMeanPktSz        1215890 non-null  float64\n",
      " 13  Load              1215890 non-null  float64\n",
      " 14  SrcLoad           1215890 non-null  float64\n",
      " 15  DstLoad           1215890 non-null  float64\n",
      " 16  Rate              1215890 non-null  float64\n",
      " 17  SrcRate           1215890 non-null  float64\n",
      " 18  DstRate           1215890 non-null  float64\n",
      " 19  TcpRtt            1215890 non-null  float64\n",
      " 20  SynAck            1215890 non-null  float64\n",
      " 21  AckDat            1215890 non-null  float64\n",
      " 22  sTtl_             1215890 non-null  float64\n",
      " 23  dTtl_             1215890 non-null  float64\n",
      " 24  SrcWin_           1215890 non-null  float64\n",
      " 25  DstWin_           1215890 non-null  float64\n",
      " 26  Proto_tcp         1215890 non-null  bool   \n",
      " 27  Proto_udp         1215890 non-null  bool   \n",
      " 28  Cause_Status      1215890 non-null  bool   \n",
      " 29  State_CON         1215890 non-null  bool   \n",
      " 30  State_INT         1215890 non-null  bool   \n",
      " 31  State_REQ         1215890 non-null  bool   \n",
      " 32  Label__Malicious  1215890 non-null  bool   \n",
      "dtypes: bool(7), float64(18), int64(8)\n",
      "memory usage: 249.3 MB\n",
      "None\n"
     ]
    }
   ],
   "source": [
    "print(data.info())"
   ]
  },
  {
   "cell_type": "code",
   "execution_count": 5,
   "metadata": {},
   "outputs": [
    {
     "name": "stdout",
     "output_type": "stream",
     "text": [
      "Index(['Seq', 'Dur', 'sHops', 'dHops', 'TotPkts', 'SrcPkts', 'DstPkts',\n",
      "       'TotBytes', 'SrcBytes', 'DstBytes', 'Offset', 'sMeanPktSz',\n",
      "       'dMeanPktSz', 'Load', 'SrcLoad', 'DstLoad', 'Rate', 'SrcRate',\n",
      "       'DstRate', 'TcpRtt', 'SynAck', 'AckDat', 'sTtl_', 'dTtl_', 'SrcWin_',\n",
      "       'DstWin_', 'Proto_tcp', 'Proto_udp', 'Cause_Status', 'State_CON',\n",
      "       'State_INT', 'State_REQ', 'Label__Malicious'],\n",
      "      dtype='object')\n"
     ]
    }
   ],
   "source": [
    "print(data.columns)"
   ]
  },
  {
   "cell_type": "code",
   "execution_count": 6,
   "metadata": {},
   "outputs": [],
   "source": [
    "# Encode Categorical Variables\n",
    "categorical_cols = data.select_dtypes(include=['object']).columns.tolist()\n",
    "encoders = {}\n",
    "for col in categorical_cols:\n",
    "    le = LabelEncoder()\n",
    "    data[col] = le.fit_transform(data[col])\n",
    "    encoders[col] = le\n",
    "\n",
    "# Separate Features & Target, then Apply Feature Selection\n",
    "target_col = \"Label__Malicious\"\n",
    "if target_col not in data.columns:\n",
    "    raise ValueError(f\"Target column '{target_col}' not found in the dataset!\")\n",
    "    \n",
    "y = data[target_col]\n",
    "X = data.drop(columns=[target_col])"
   ]
  },
  {
   "cell_type": "markdown",
   "metadata": {},
   "source": [
    "### Feature Selection using pearson correlation"
   ]
  },
  {
   "cell_type": "code",
   "execution_count": 7,
   "metadata": {},
   "outputs": [
    {
     "name": "stdout",
     "output_type": "stream",
     "text": [
      "\n",
      "Pearson Correlation with Target:\n",
      "Proto_tcp       0.378910\n",
      "AckDat          0.293770\n",
      "TcpRtt          0.195211\n",
      "Dur             0.162825\n",
      "dTtl_           0.138945\n",
      "dMeanPktSz      0.108514\n",
      "Cause_Status    0.105866\n",
      "State_CON       0.056073\n",
      "State_REQ       0.025951\n",
      "SynAck          0.023518\n",
      "DstLoad         0.005740\n",
      "Load            0.005732\n",
      "SrcRate         0.005529\n",
      "DstRate         0.005333\n",
      "Rate            0.004231\n",
      "SrcLoad         0.003917\n",
      "DstWin_         0.001312\n",
      "DstPkts        -0.032770\n",
      "DstBytes       -0.034669\n",
      "SrcWin_        -0.089969\n",
      "TotPkts        -0.099134\n",
      "SrcPkts        -0.111448\n",
      "TotBytes       -0.117561\n",
      "SrcBytes       -0.121247\n",
      "sHops          -0.162490\n",
      "sMeanPktSz     -0.175133\n",
      "State_INT      -0.196258\n",
      "dHops          -0.233123\n",
      "Proto_udp      -0.289052\n",
      "sTtl_          -0.419852\n",
      "Offset         -0.456065\n",
      "Seq            -0.527940\n",
      "dtype: float64\n",
      "\n",
      "Selected Features based on Pearson correlation (|corr| > 0.1):\n",
      "['Seq', 'Dur', 'sHops', 'dHops', 'SrcPkts', 'TotBytes', 'SrcBytes', 'Offset', 'sMeanPktSz', 'dMeanPktSz', 'TcpRtt', 'AckDat', 'sTtl_', 'dTtl_', 'Proto_tcp', 'Proto_udp', 'Cause_Status', 'State_INT']\n"
     ]
    }
   ],
   "source": [
    "# Feature Selection Using Pearson Correlation\n",
    "pearson_corr = X.corrwith(y)\n",
    "print(\"\\nPearson Correlation with Target:\")\n",
    "print(pearson_corr.sort_values(ascending=False))\n",
    "\n",
    "# Select features with absolute correlation > threshold (e.g., 0.1)\n",
    "threshold = 0.1\n",
    "selected_features = pearson_corr[abs(pearson_corr) > threshold].index.tolist()\n",
    "print(f\"\\nSelected Features based on Pearson correlation (|corr| > {threshold}):\")\n",
    "print(selected_features)\n",
    "X = X[selected_features]"
   ]
  },
  {
   "cell_type": "markdown",
   "metadata": {},
   "source": [
    "### Feature Selection using Chi-square test"
   ]
  },
  {
   "cell_type": "code",
   "execution_count": 8,
   "metadata": {},
   "outputs": [
    {
     "name": "stdout",
     "output_type": "stream",
     "text": [
      "\n",
      "Chi-square Test Results:\n",
      "         Feature    Chi2 Score  p-value\n",
      "7         Offset  2.339150e+12      0.0\n",
      "0            Seq  1.198481e+10      0.0\n",
      "6       SrcBytes  4.224510e+09      0.0\n",
      "5       TotBytes  4.197740e+09      0.0\n",
      "9     dMeanPktSz  1.070118e+07      0.0\n",
      "8     sMeanPktSz  1.069171e+07      0.0\n",
      "12         sTtl_  7.949852e+06      0.0\n",
      "13         dTtl_  1.433668e+06      0.0\n",
      "4        SrcPkts  1.383413e+06      0.0\n",
      "3          dHops  1.305621e+06      0.0\n",
      "2          sHops  2.024878e+05      0.0\n",
      "14     Proto_tcp  1.345595e+05      0.0\n",
      "1            Dur  6.756040e+04      0.0\n",
      "17     State_INT  3.417022e+04      0.0\n",
      "15     Proto_udp  2.613902e+04      0.0\n",
      "16  Cause_Status  5.460666e+03      0.0\n",
      "10        TcpRtt  3.013776e+03      0.0\n",
      "11        AckDat  2.849205e+03      0.0\n"
     ]
    }
   ],
   "source": [
    "\n",
    "# Optional: Chi-square Test (for non-negative features)\n",
    "# Chi-square test requires non-negative values. If needed, ensure that features are non-negative.\n",
    "chi2_selector = SelectKBest(score_func=chi2, k='all')\n",
    "chi2_selector.fit(X, y)\n",
    "chi2_scores = chi2_selector.scores_\n",
    "chi2_pvalues = chi2_selector.pvalues_\n",
    "chi2_results = pd.DataFrame({\n",
    "    'Feature': X.columns,\n",
    "    'Chi2 Score': chi2_scores,\n",
    "    'p-value': chi2_pvalues\n",
    "}).sort_values(by='Chi2 Score', ascending=False)\n",
    "print(\"\\nChi-square Test Results:\")\n",
    "print(chi2_results)\n"
   ]
  },
  {
   "cell_type": "markdown",
   "metadata": {},
   "source": [
    "### Data preparation"
   ]
  },
  {
   "cell_type": "code",
   "execution_count": 9,
   "metadata": {},
   "outputs": [],
   "source": [
    "import joblib"
   ]
  },
  {
   "cell_type": "code",
   "execution_count": 13,
   "metadata": {},
   "outputs": [],
   "source": [
    "scaler = StandardScaler()\n",
    "X_scaled = scaler.fit_transform(X)\n",
    "# Split into Train (60%), Validation (20%), and Test (20%) Sets\n",
    "# First, split into 60% train and 40% temporary\n",
    "X_train, X_temp, y_train, y_temp = train_test_split(X_scaled, y, test_size=0.4, random_state=42, stratify=y)\n",
    "# Then, split temporary set equally into validation and test (20% each)\n",
    "X_val, X_test, y_val, y_test = train_test_split(X_temp, y_temp, test_size=0.5, random_state=42, stratify=y_temp)\n",
    "\n",
    "test_data=pd.DataFrame(X_test)\n",
    "test_data['y']=y_test\n",
    "test_data.to_csv(\"TestData.csv\")"
   ]
  },
  {
   "cell_type": "code",
   "execution_count": 11,
   "metadata": {},
   "outputs": [
    {
     "name": "stdout",
     "output_type": "stream",
     "text": [
      "Scaler saved as 'scaler.pkl'\n"
     ]
    }
   ],
   "source": [
    "joblib.dump(scaler, \"scaler.pkl\")\n",
    "print(\"Scaler saved as 'scaler.pkl'\")"
   ]
  },
  {
   "cell_type": "code",
   "execution_count": null,
   "metadata": {},
   "outputs": [
    {
     "name": "stdout",
     "output_type": "stream",
     "text": [
      "\n",
      "Shapes:\n",
      "Train: (729534, 19), Validation: (243178, 19), Test: (243178, 19)\n",
      "\n",
      "Shapes:\n",
      "Train: (729534,), Validation: (243178,), Test: (243178,)\n"
     ]
    }
   ],
   "source": [
    "# print(f\"\\nShapes:\\nTrain: {X_train.shape}, Validation: {X_val.shape}, Test: {X_test.shape}\")\n",
    "# print(f\"\\nShapes:\\nTrain: {y_train.shape}, Validation: {y_val.shape}, Test: {y_test.shape}\")"
   ]
  },
  {
   "cell_type": "markdown",
   "metadata": {},
   "source": [
    "### Normalize/Scale the Features and encode label"
   ]
  },
  {
   "cell_type": "code",
   "execution_count": null,
   "metadata": {},
   "outputs": [
    {
     "name": "stdout",
     "output_type": "stream",
     "text": [
      "[[-0.56918719 -0.80698017 -0.33631962 ...  0.58859231 -1.22292317\n",
      "   1.64273239]\n",
      " [-0.79517472 -0.80698017 -0.33631962 ...  0.58859231  0.81771286\n",
      "  -0.60874188]\n",
      " [-0.59375566  0.72383056 -0.33631962 ...  0.58859231  0.81771286\n",
      "  -0.60874188]\n",
      " ...\n",
      " [-0.46874241 -0.80698017 -0.33631962 ... -1.69896884  0.81771286\n",
      "  -0.60874188]\n",
      " [-0.44372388  0.71686903 -0.33631962 ...  0.58859231  0.81771286\n",
      "  -0.60874188]\n",
      " [ 1.53422291 -0.80698017 -0.33631962 ...  0.58859231  0.81771286\n",
      "  -0.60874188]]\n"
     ]
    }
   ],
   "source": [
    "# print(X_test)"
   ]
  },
  {
   "cell_type": "code",
   "execution_count": null,
   "metadata": {},
   "outputs": [
    {
     "name": "stdout",
     "output_type": "stream",
     "text": [
      "1060752    False\n",
      "794047      True\n",
      "851251      True\n",
      "595065      True\n",
      "286790     False\n",
      "           ...  \n",
      "136778      True\n",
      "840737      True\n",
      "929654      True\n",
      "331776     False\n",
      "706469      True\n",
      "Name: Label__Malicious, Length: 729534, dtype: bool\n"
     ]
    }
   ],
   "source": [
    "#print(y_train)"
   ]
  },
  {
   "cell_type": "markdown",
   "metadata": {},
   "source": [
    "## Build & Train the Neural Network with Regularization"
   ]
  },
  {
   "cell_type": "code",
   "execution_count": 24,
   "metadata": {},
   "outputs": [],
   "source": [
    "from tensorflow.keras.layers import BatchNormalization, Activation"
   ]
  },
  {
   "cell_type": "code",
   "execution_count": 25,
   "metadata": {},
   "outputs": [
    {
     "name": "stdout",
     "output_type": "stream",
     "text": [
      "Model: \"sequential\"\n",
      "_________________________________________________________________\n",
      " Layer (type)                Output Shape              Param #   \n",
      "=================================================================\n",
      " dense (Dense)               (None, 64)                1152      \n",
      "                                                                 \n",
      " batch_normalization (Batch  (None, 64)                256       \n",
      " Normalization)                                                  \n",
      "                                                                 \n",
      " activation (Activation)     (None, 64)                0         \n",
      "                                                                 \n",
      " dropout (Dropout)           (None, 64)                0         \n",
      "                                                                 \n",
      " dense_1 (Dense)             (None, 32)                2048      \n",
      "                                                                 \n",
      " batch_normalization_1 (Bat  (None, 32)                128       \n",
      " chNormalization)                                                \n",
      "                                                                 \n",
      " activation_1 (Activation)   (None, 32)                0         \n",
      "                                                                 \n",
      " dropout_1 (Dropout)         (None, 32)                0         \n",
      "                                                                 \n",
      " dense_2 (Dense)             (None, 1)                 33        \n",
      "                                                                 \n",
      "=================================================================\n",
      "Total params: 3617 (14.13 KB)\n",
      "Trainable params: 3425 (13.38 KB)\n",
      "Non-trainable params: 192 (768.00 Byte)\n",
      "_________________________________________________________________\n"
     ]
    }
   ],
   "source": [
    "model = Sequential([\n",
    "    # First layer: Dense + BatchNorm + Activation + Dropout\n",
    "    Dense(64, use_bias=False, kernel_regularizer=l2(0.001), input_shape=(X_train.shape[1],)),\n",
    "    BatchNormalization(),\n",
    "    Activation('relu'),\n",
    "    Dropout(0.3),\n",
    "    \n",
    "    # Second layer: Dense + BatchNorm + Activation + Dropout\n",
    "    Dense(32, use_bias=False, kernel_regularizer=l2(0.001)),\n",
    "    BatchNormalization(),\n",
    "    Activation('relu'),\n",
    "    Dropout(0.3),\n",
    "    \n",
    "    # Output layer remains unchanged\n",
    "    Dense(1, activation='sigmoid')  # For binary classification\n",
    "])\n",
    "model.compile(optimizer='adam', loss='binary_crossentropy', metrics=['accuracy'])\n",
    "\n",
    "model.summary()"
   ]
  },
  {
   "cell_type": "code",
   "execution_count": 26,
   "metadata": {},
   "outputs": [
    {
     "name": "stdout",
     "output_type": "stream",
     "text": [
      "Epoch 1/20\n",
      "22798/22798 [==============================] - 75s 3ms/step - loss: 0.0842 - accuracy: 0.9792 - val_loss: 0.0442 - val_accuracy: 0.9911\n",
      "Epoch 2/20\n",
      "22798/22798 [==============================] - 75s 3ms/step - loss: 0.0654 - accuracy: 0.9838 - val_loss: 0.0459 - val_accuracy: 0.9918\n",
      "Epoch 3/20\n",
      "22798/22798 [==============================] - 77s 3ms/step - loss: 0.0633 - accuracy: 0.9845 - val_loss: 0.0381 - val_accuracy: 0.9916\n",
      "Epoch 4/20\n",
      "22798/22798 [==============================] - 82s 4ms/step - loss: 0.0609 - accuracy: 0.9850 - val_loss: 0.0370 - val_accuracy: 0.9914\n",
      "Epoch 5/20\n",
      "22798/22798 [==============================] - 73s 3ms/step - loss: 0.0605 - accuracy: 0.9854 - val_loss: 0.0408 - val_accuracy: 0.9928\n",
      "Epoch 6/20\n",
      "22798/22798 [==============================] - 132s 6ms/step - loss: 0.0606 - accuracy: 0.9853 - val_loss: 0.0362 - val_accuracy: 0.9942\n",
      "Epoch 7/20\n",
      "22798/22798 [==============================] - 94s 4ms/step - loss: 0.0603 - accuracy: 0.9854 - val_loss: 0.0379 - val_accuracy: 0.9922\n",
      "Epoch 8/20\n",
      "22798/22798 [==============================] - 133s 6ms/step - loss: 0.0598 - accuracy: 0.9855 - val_loss: 0.0337 - val_accuracy: 0.9932\n",
      "Epoch 9/20\n",
      "22798/22798 [==============================] - 101s 4ms/step - loss: 0.0587 - accuracy: 0.9858 - val_loss: 0.0413 - val_accuracy: 0.9921\n",
      "Epoch 10/20\n",
      "22798/22798 [==============================] - 93s 4ms/step - loss: 0.0593 - accuracy: 0.9854 - val_loss: 0.0423 - val_accuracy: 0.9902\n",
      "Epoch 11/20\n",
      "22798/22798 [==============================] - 80s 4ms/step - loss: 0.0593 - accuracy: 0.9854 - val_loss: 0.0335 - val_accuracy: 0.9940\n",
      "Epoch 12/20\n",
      "22798/22798 [==============================] - 103s 5ms/step - loss: 0.0591 - accuracy: 0.9856 - val_loss: 0.0362 - val_accuracy: 0.9944\n",
      "Epoch 13/20\n",
      "22798/22798 [==============================] - 127s 6ms/step - loss: 0.0591 - accuracy: 0.9855 - val_loss: 0.0368 - val_accuracy: 0.9927\n",
      "Epoch 14/20\n",
      "22798/22798 [==============================] - 106s 5ms/step - loss: 0.0605 - accuracy: 0.9852 - val_loss: 0.0527 - val_accuracy: 0.9906\n",
      "Epoch 15/20\n",
      "22798/22798 [==============================] - 93s 4ms/step - loss: 0.0588 - accuracy: 0.9854 - val_loss: 0.0374 - val_accuracy: 0.9930\n",
      "Epoch 16/20\n",
      "22798/22798 [==============================] - 95s 4ms/step - loss: 0.0589 - accuracy: 0.9855 - val_loss: 0.0360 - val_accuracy: 0.9928\n",
      "Epoch 17/20\n",
      "22798/22798 [==============================] - 128s 6ms/step - loss: 0.0595 - accuracy: 0.9855 - val_loss: 0.0319 - val_accuracy: 0.9932\n",
      "Epoch 18/20\n",
      "22798/22798 [==============================] - 101s 4ms/step - loss: 0.0592 - accuracy: 0.9854 - val_loss: 0.0386 - val_accuracy: 0.9911\n",
      "Epoch 19/20\n",
      "22798/22798 [==============================] - 92s 4ms/step - loss: 0.0587 - accuracy: 0.9854 - val_loss: 0.0434 - val_accuracy: 0.9910\n",
      "Epoch 20/20\n",
      "22798/22798 [==============================] - 78s 3ms/step - loss: 0.0588 - accuracy: 0.9855 - val_loss: 0.0521 - val_accuracy: 0.9919\n"
     ]
    }
   ],
   "source": [
    "# Train the model with validation monitoring\n",
    "history = model.fit(X_train, y_train, \n",
    "                    validation_data=(X_val, y_val),\n",
    "                    epochs=20, \n",
    "                    batch_size=32,\n",
    "                    verbose=1)"
   ]
  },
  {
   "cell_type": "code",
   "execution_count": 27,
   "metadata": {},
   "outputs": [
    {
     "data": {
      "image/png": "[encoded data removed]",
      "text/plain": [
       "<Figure size 800x600 with 1 Axes>"
      ]
     },
     "metadata": {},
     "output_type": "display_data"
    }
   ],
   "source": [
    "#Plot Training and Validation Loss Curves\n",
    "plt.figure(figsize=(8, 6))\n",
    "plt.plot(history.history['loss'], label='Training Loss')\n",
    "plt.plot(history.history['val_loss'], label='Validation Loss')\n",
    "plt.title(\"Training vs. Validation Loss\")\n",
    "plt.xlabel(\"Epoch\")\n",
    "plt.ylabel(\"Loss\")\n",
    "plt.legend()\n",
    "plt.show()"
   ]
  },
  {
   "cell_type": "markdown",
   "metadata": {},
   "source": [
    "### Evaluate the Model on the Test Set"
   ]
  },
  {
   "cell_type": "code",
   "execution_count": 28,
   "metadata": {},
   "outputs": [
    {
     "name": "stdout",
     "output_type": "stream",
     "text": [
      "\n",
      "Test Loss: 0.0567\n",
      "Test Accuracy: 0.9921\n"
     ]
    }
   ],
   "source": [
    "test_loss, test_accuracy = model.evaluate(X_test, y_test, verbose=0)\n",
    "print(f\"\\nTest Loss: {test_loss:.4f}\")\n",
    "print(f\"Test Accuracy: {test_accuracy:.4f}\")"
   ]
  },
  {
   "cell_type": "markdown",
   "metadata": {},
   "source": [
    "### Save the model"
   ]
  },
  {
   "cell_type": "code",
   "execution_count": null,
   "metadata": {},
   "outputs": [],
   "source": [
    "model.save(\"neural_net_model.h5\")"
   ]
  }
 ],
 "metadata": {
  "kernelspec": {
   "display_name": "Python 3",
   "language": "python",
   "name": "python3"
  },
  "language_info": {
   "codemirror_mode": {
    "name": "ipython",
    "version": 3
   },
   "file_extension": ".py",
   "mimetype": "text/x-python",
   "name": "python",
   "nbconvert_exporter": "python",
   "pygments_lexer": "ipython3",
   "version": "3.11.5"
  }
 },
 "nbformat": 4,
 "nbformat_minor": 2
}
