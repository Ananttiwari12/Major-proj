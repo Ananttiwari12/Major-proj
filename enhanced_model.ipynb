{
 "cells": [
  {
   "cell_type": "code",
   "execution_count": 1,
   "metadata": {},
   "outputs": [],
   "source": [
    "from tensorflow.keras.models import Model\n",
    "from tensorflow.keras.layers import Input, LSTM, GRU, Dense, RepeatVector, TimeDistributed, Concatenate, Bidirectional, Activation, Multiply\n",
    "import tensorflow as tf"
   ]
  },
  {
   "cell_type": "code",
   "execution_count": 4,
   "metadata": {},
   "outputs": [],
   "source": [
    "import numpy as np\n",
    "import pandas as pd\n",
    "from sklearn.preprocessing import MinMaxScaler"
   ]
  },
  {
   "cell_type": "code",
   "execution_count": null,
   "metadata": {},
   "outputs": [],
   "source": [
    "# Parameters\n",
    "num_samples = 1000  # Total number of samples\n",
    "sequence_length = 50  # Length of each sequence\n",
    "\n",
    "# Generate synthetic data\n",
    "packet_sizes = np.random.normal(loc=500, scale=100, size=num_samples)\n",
    "connection_durations = np.random.normal(loc=2, scale=0.5, size=num_samples)\n",
    "\n",
    "# Generate timestamps (1-second intervals for simplicity)\n",
    "timestamps = pd.date_range(start='2024-11-05', periods=num_samples, freq='S')\n",
    "\n",
    "# Calculate inter-arrival times (difference between consecutive timestamps)\n",
    "inter_arrival_times = [0] + [(timestamps[i] - timestamps[i-1]).total_seconds() for i in range(1, num_samples)]\n",
    "\n",
    "# Calculate packet size to connection duration ratio (add small constant to avoid division by zero)\n",
    "size_duration_ratios = packet_sizes / (connection_durations + 1e-5)\n",
    "\n",
    "# Generate SYN packet flags randomly (probability of 10% to be a SYN packet)\n",
    "syn_flags = np.random.choice([0, 1], size=num_samples, p=[0.9, 0.1])\n",
    "\n",
    "# Calculate SYN packet frequency within each sequence\n",
    "syn_frequencies = []\n",
    "for i in range(num_samples):\n",
    "    # Calculate the rolling frequency of SYN packets over the last `sequence_length` packets\n",
    "    start_idx = max(0, i - sequence_length + 1)\n",
    "    syn_frequency = np.sum(syn_flags[start_idx:i+1]) / sequence_length\n",
    "    syn_frequencies.append(syn_frequency)\n",
    "\n",
    "# Create DataFrame with all features\n",
    "df = pd.DataFrame({\n",
    "    'packet_size': packet_sizes,\n",
    "    'connection_duration': connection_durations,\n",
    "    'inter_arrival_time': inter_arrival_times,\n",
    "    'size_duration_ratio': size_duration_ratios,\n",
    "    'syn_flag': syn_flags,  # Indicator of whether each packet is a SYN packet\n",
    "    'syn_frequency': syn_frequencies  # Rolling frequency of SYN packets\n",
    "})"
   ]
  },
  {
   "cell_type": "code",
   "execution_count": null,
   "metadata": {},
   "outputs": [
    {
     "name": "stdout",
     "output_type": "stream",
     "text": [
      "Shape of X_train_data: (950, 50, 6)\n",
      "Shape of y_train_data: (950, 50, 2)\n"
     ]
    }
   ],
   "source": [
    "\n",
    "# Assuming your dataset includes the following columns\n",
    "# 'packet_size', 'connection_duration', 'packet_inter_arrival_time', 'SYN_packets', 'packet_size_connection_ratio', 'SYN_packet_ratio'\n",
    "\n",
    "# Load the dataset (assuming you have the dataset as a CSV or DataFrame)\n",
    "# For example: df = pd.read_csv(\"synthetic_network_traffic.csv\")\n",
    "# For the sake of this example, I'll create a sample dataframe\n",
    "\n",
    "# Example DataFrame with features\n",
    "num_samples = 1000  # Assuming 1000 samples\n",
    "sequence_length = 50  # Length of the sequence\n",
    "\n",
    "# Create synthetic data (example)\n",
    "df = pd.DataFrame({\n",
    "    'packet_size': np.random.normal(loc=500, scale=100, size=num_samples),\n",
    "    'connection_duration': np.random.normal(loc=2, scale=0.5, size=num_samples),\n",
    "    'packet_inter_arrival_time': np.random.normal(loc=0.02, scale=0.005, size=num_samples),\n",
    "    'SYN_packets': np.random.randint(0, 10, size=num_samples),\n",
    "    'packet_size_connection_ratio': np.random.normal(loc=250, scale=50, size=num_samples),\n",
    "    'SYN_packet_ratio': np.random.uniform(0, 1, size=num_samples)\n",
    "})\n",
    "\n",
    "# Scale the data (Min-Max Scaling for neural network input)\n",
    "scaler = MinMaxScaler()\n",
    "scaled_features = scaler.fit_transform(df)  # Normalize the features\n",
    "\n",
    "# Prepare X_train_data (sequence of 6 features per time step)\n",
    "X_train_data = []\n",
    "for i in range(num_samples - sequence_length):\n",
    "    X_train_data.append(scaled_features[i:i + sequence_length])\n",
    "\n",
    "X_train_data = np.array(X_train_data)  # Shape should be (num_samples-sequence_length, sequence_length, 6)\n",
    "\n",
    "# Prepare y_train_data (packet_size and connection_duration as targets)\n",
    "y_train_data = []\n",
    "for i in range(num_samples - sequence_length):\n",
    "    # We take only the 'packet_size' and 'connection_duration' columns for the target\n",
    "    y_train_data.append(scaled_features[i:i + sequence_length, [0, 1]])\n",
    "\n",
    "y_train_data = np.array(y_train_data)  # Shape should be (num_samples-sequence_length, sequence_length, 2)\n",
    "\n",
    "# Ensure the shape of the data\n",
    "print(\"Shape of X_train_data:\", X_train_data.shape)  # Expected: (950, 50, 6)\n",
    "print(\"Shape of y_train_data:\", y_train_data.shape)  # Expected: (950, 50, 2)\n"
   ]
  },
  {
   "cell_type": "code",
   "execution_count": 6,
   "metadata": {},
   "outputs": [
    {
     "name": "stdout",
     "output_type": "stream",
     "text": [
      "Shape of training data: (951, 50, 6)\n"
     ]
    }
   ],
   "source": [
    "# Scale the data\n",
    "scaler = MinMaxScaler()\n",
    "data_scaled = scaler.fit_transform(df)  # Scale all features\n",
    "\n",
    "# Create sequences\n",
    "X = []\n",
    "for i in range(num_samples - sequence_length + 1):  # Adjust range to include the last sequence\n",
    "    X.append(data_scaled[i:i + sequence_length])\n",
    "\n",
    "X_train = np.array(X)  # Convert list to NumPy array\n",
    "\n",
    "# Check the shape to confirm it's correct\n",
    "print(\"Shape of training data:\", X_train.shape)  # Expected shape: (951, 50, 6)"
   ]
  },
  {
   "cell_type": "code",
   "execution_count": 25,
   "metadata": {},
   "outputs": [],
   "source": [
    "# Attention Layer Definition\n",
    "def attention_layer(inputs):\n",
    "    \"\"\"\n",
    "    Applies an attention mechanism on the input sequence.\n",
    "    \"\"\"\n",
    "    attention = Dense(1, activation=\"tanh\")(inputs)\n",
    "    attention = tf.keras.layers.Flatten()(attention)\n",
    "    attention = Activation(\"softmax\")(attention)\n",
    "    attention = tf.keras.layers.RepeatVector(inputs.shape[-1])(attention)\n",
    "    attention = tf.keras.layers.Permute([2, 1])(attention)\n",
    "\n",
    "    output_attention = Multiply()([inputs, attention])\n",
    "    return output_attention"
   ]
  },
  {
   "cell_type": "code",
   "execution_count": 26,
   "metadata": {},
   "outputs": [],
   "source": [
    "input_layer = Input(shape=(sequence_length, 6))"
   ]
  },
  {
   "cell_type": "code",
   "execution_count": 27,
   "metadata": {},
   "outputs": [],
   "source": [
    "# LSTM branch\n",
    "lstm_branch = LSTM(64, activation='relu', return_sequences=True)(input_layer)\n",
    "lstm_branch = LSTM(32, activation='relu', return_sequences=False)(lstm_branch)\n",
    "lstm_branch = RepeatVector(sequence_length)(lstm_branch)\n",
    "lstm_branch = LSTM(32, activation='relu', return_sequences=True)(lstm_branch)\n",
    "lstm_branch = LSTM(64, activation='relu', return_sequences=True)(lstm_branch)"
   ]
  },
  {
   "cell_type": "code",
   "execution_count": 28,
   "metadata": {},
   "outputs": [],
   "source": [
    "# Bidirectional LSTM branch\n",
    "bidirectional_branch = Bidirectional(LSTM(64, activation='relu', return_sequences=True))(input_layer)\n",
    "bidirectional_branch = Bidirectional(LSTM(32, activation='relu', return_sequences=False))(bidirectional_branch)\n",
    "bidirectional_branch = RepeatVector(sequence_length)(bidirectional_branch)\n",
    "bidirectional_branch = Bidirectional(LSTM(32, activation='relu', return_sequences=True))(bidirectional_branch)\n",
    "bidirectional_branch = Bidirectional(LSTM(64, activation='relu', return_sequences=True))(bidirectional_branch)"
   ]
  },
  {
   "cell_type": "code",
   "execution_count": 29,
   "metadata": {},
   "outputs": [],
   "source": [
    "# GRU branch\n",
    "gru_branch = GRU(64, activation='relu', return_sequences=True)(input_layer)\n",
    "gru_branch = GRU(32, activation='relu', return_sequences=False)(gru_branch)\n",
    "gru_branch = RepeatVector(sequence_length)(gru_branch)\n",
    "gru_branch = GRU(32, activation='relu', return_sequences=True)(gru_branch)\n",
    "gru_branch = GRU(64, activation='relu', return_sequences=True)(gru_branch)"
   ]
  },
  {
   "cell_type": "code",
   "execution_count": 30,
   "metadata": {},
   "outputs": [],
   "source": [
    "# Concatenate all branches\n",
    "combined = Concatenate()([lstm_branch, bidirectional_branch, gru_branch])\n",
    "\n",
    "# Apply attention mechanism\n",
    "attention_output = attention_layer(combined)\n",
    "\n",
    "# Final TimeDistributed layer\n",
    "output_layer = TimeDistributed(Dense(2))(attention_output)\n"
   ]
  },
  {
   "cell_type": "code",
   "execution_count": 31,
   "metadata": {},
   "outputs": [
    {
     "name": "stdout",
     "output_type": "stream",
     "text": [
      "Model: \"model_2\"\n",
      "__________________________________________________________________________________________________\n",
      " Layer (type)                Output Shape                 Param #   Connected to                  \n",
      "==================================================================================================\n",
      " input_3 (InputLayer)        [(None, 50, 6)]              0         []                            \n",
      "                                                                                                  \n",
      " lstm_16 (LSTM)              (None, 50, 64)               18176     ['input_3[0][0]']             \n",
      "                                                                                                  \n",
      " bidirectional_8 (Bidirecti  (None, 50, 128)              36352     ['input_3[0][0]']             \n",
      " onal)                                                                                            \n",
      "                                                                                                  \n",
      " gru_8 (GRU)                 (None, 50, 64)               13824     ['input_3[0][0]']             \n",
      "                                                                                                  \n",
      " lstm_17 (LSTM)              (None, 32)                   12416     ['lstm_16[0][0]']             \n",
      "                                                                                                  \n",
      " bidirectional_9 (Bidirecti  (None, 64)                   41216     ['bidirectional_8[0][0]']     \n",
      " onal)                                                                                            \n",
      "                                                                                                  \n",
      " gru_9 (GRU)                 (None, 32)                   9408      ['gru_8[0][0]']               \n",
      "                                                                                                  \n",
      " repeat_vector_8 (RepeatVec  (None, 50, 32)               0         ['lstm_17[0][0]']             \n",
      " tor)                                                                                             \n",
      "                                                                                                  \n",
      " repeat_vector_9 (RepeatVec  (None, 50, 64)               0         ['bidirectional_9[0][0]']     \n",
      " tor)                                                                                             \n",
      "                                                                                                  \n",
      " repeat_vector_10 (RepeatVe  (None, 50, 32)               0         ['gru_9[0][0]']               \n",
      " ctor)                                                                                            \n",
      "                                                                                                  \n",
      " lstm_18 (LSTM)              (None, 50, 32)               8320      ['repeat_vector_8[0][0]']     \n",
      "                                                                                                  \n",
      " bidirectional_10 (Bidirect  (None, 50, 64)               24832     ['repeat_vector_9[0][0]']     \n"
     ]
    },
    {
     "name": "stdout",
     "output_type": "stream",
     "text": [
      " ional)                                                                                           \n",
      "                                                                                                  \n",
      " gru_10 (GRU)                (None, 50, 32)               6336      ['repeat_vector_10[0][0]']    \n",
      "                                                                                                  \n",
      " lstm_19 (LSTM)              (None, 50, 64)               24832     ['lstm_18[0][0]']             \n",
      "                                                                                                  \n",
      " bidirectional_11 (Bidirect  (None, 50, 128)              66048     ['bidirectional_10[0][0]']    \n",
      " ional)                                                                                           \n",
      "                                                                                                  \n",
      " gru_11 (GRU)                (None, 50, 64)               18816     ['gru_10[0][0]']              \n",
      "                                                                                                  \n",
      " concatenate_2 (Concatenate  (None, 50, 256)              0         ['lstm_19[0][0]',             \n",
      " )                                                                   'bidirectional_11[0][0]',    \n",
      "                                                                     'gru_11[0][0]']              \n",
      "                                                                                                  \n",
      " dense_4 (Dense)             (None, 50, 1)                257       ['concatenate_2[0][0]']       \n",
      "                                                                                                  \n",
      " flatten_2 (Flatten)         (None, 50)                   0         ['dense_4[0][0]']             \n",
      "                                                                                                  \n",
      " activation_2 (Activation)   (None, 50)                   0         ['flatten_2[0][0]']           \n",
      "                                                                                                  \n",
      " repeat_vector_11 (RepeatVe  (None, 256, 50)              0         ['activation_2[0][0]']        \n",
      " ctor)                                                                                            \n",
      "                                                                                                  \n",
      " permute_2 (Permute)         (None, 50, 256)              0         ['repeat_vector_11[0][0]']    \n",
      "                                                                                                  \n",
      " multiply_2 (Multiply)       (None, 50, 256)              0         ['concatenate_2[0][0]',       \n",
      "                                                                     'permute_2[0][0]']           \n",
      "                                                                                                  \n",
      " time_distributed_2 (TimeDi  (None, 50, 2)                514       ['multiply_2[0][0]']          \n",
      " stributed)                                                                                       \n",
      "                                                                                                  \n",
      "==================================================================================================\n",
      "Total params: 281347 (1.07 MB)\n",
      "Trainable params: 281347 (1.07 MB)\n",
      "Non-trainable params: 0 (0.00 Byte)\n",
      "__________________________________________________________________________________________________\n"
     ]
    }
   ],
   "source": [
    "# Build the model\n",
    "model = Model(inputs=input_layer, outputs=output_layer)\n",
    "model.compile(optimizer='adam', loss='mean_squared_error')\n",
    "model.summary()"
   ]
  },
  {
   "cell_type": "code",
   "execution_count": 22,
   "metadata": {},
   "outputs": [],
   "source": [
    "# Split into training and validation sets manually if shuffle is causing issues\n",
    "train_size = int(0.9 * len(X_train))\n",
    "X_train_data, X_val_data = X_train[:train_size], X_train[train_size:]"
   ]
  },
  {
   "cell_type": "code",
   "execution_count": null,
   "metadata": {},
   "outputs": [
    {
     "name": "stdout",
     "output_type": "stream",
     "text": [
      "Epoch 1/50\n",
      "27/27 [==============================] - 29s 253ms/step - loss: 0.8655 - val_loss: 0.1707\n",
      "Epoch 2/50\n",
      "27/27 [==============================] - 5s 174ms/step - loss: 0.1688 - val_loss: 0.1405\n",
      "Epoch 3/50\n",
      "27/27 [==============================] - 5s 200ms/step - loss: 0.0888 - val_loss: 0.0251\n",
      "Epoch 4/50\n",
      "27/27 [==============================] - 5s 189ms/step - loss: 0.0244 - val_loss: 0.0217\n",
      "Epoch 5/50\n",
      "27/27 [==============================] - 5s 195ms/step - loss: 0.0228 - val_loss: 0.0208\n",
      "Epoch 6/50\n",
      "27/27 [==============================] - 6s 210ms/step - loss: 0.0223 - val_loss: 0.0206\n",
      "Epoch 7/50\n",
      "27/27 [==============================] - 6s 230ms/step - loss: 0.0221 - val_loss: 0.0204\n",
      "Epoch 8/50\n",
      "27/27 [==============================] - 5s 184ms/step - loss: 0.0219 - val_loss: 0.0204\n",
      "Epoch 9/50\n",
      "27/27 [==============================] - 5s 198ms/step - loss: 0.0218 - val_loss: 0.0203\n",
      "Epoch 10/50\n",
      "27/27 [==============================] - 6s 228ms/step - loss: 0.0218 - val_loss: 0.0201\n",
      "Epoch 11/50\n",
      "27/27 [==============================] - 6s 210ms/step - loss: 0.0218 - val_loss: 0.0202\n",
      "Epoch 12/50\n",
      "27/27 [==============================] - 6s 219ms/step - loss: 0.0217 - val_loss: 0.0202\n",
      "Epoch 13/50\n",
      "27/27 [==============================] - 6s 209ms/step - loss: 0.0217 - val_loss: 0.0202\n",
      "Epoch 14/50\n",
      "27/27 [==============================] - 5s 177ms/step - loss: 0.0217 - val_loss: 0.0201\n",
      "Epoch 15/50\n",
      "27/27 [==============================] - 5s 180ms/step - loss: 0.0217 - val_loss: 0.0201\n",
      "Epoch 16/50\n",
      "27/27 [==============================] - 6s 207ms/step - loss: 0.0217 - val_loss: 0.0209\n",
      "Epoch 17/50\n",
      "27/27 [==============================] - 8s 287ms/step - loss: 0.0218 - val_loss: 0.0202\n",
      "Epoch 18/50\n",
      "27/27 [==============================] - 8s 282ms/step - loss: 0.0217 - val_loss: 0.0201\n",
      "Epoch 19/50\n",
      "27/27 [==============================] - 8s 296ms/step - loss: 0.0217 - val_loss: 0.0201\n",
      "Epoch 20/50\n",
      "27/27 [==============================] - 8s 291ms/step - loss: 0.0218 - val_loss: 0.0208\n",
      "Epoch 21/50\n",
      "27/27 [==============================] - 8s 290ms/step - loss: 0.0218 - val_loss: 0.0201\n",
      "Epoch 22/50\n",
      "27/27 [==============================] - 8s 291ms/step - loss: 0.0217 - val_loss: 0.0202\n",
      "Epoch 23/50\n",
      "27/27 [==============================] - 8s 280ms/step - loss: 0.0217 - val_loss: 0.0203\n",
      "Epoch 24/50\n",
      "27/27 [==============================] - 6s 205ms/step - loss: 0.0217 - val_loss: 0.0201\n",
      "Epoch 25/50\n",
      "27/27 [==============================] - 4s 151ms/step - loss: 0.0217 - val_loss: 0.0203\n",
      "Epoch 26/50\n",
      "27/27 [==============================] - 5s 195ms/step - loss: 0.0217 - val_loss: 0.0201\n",
      "Epoch 27/50\n",
      "27/27 [==============================] - 7s 254ms/step - loss: 0.0217 - val_loss: 0.0202\n",
      "Epoch 28/50\n",
      "27/27 [==============================] - 8s 284ms/step - loss: 0.0217 - val_loss: 0.0201\n",
      "Epoch 29/50\n",
      "27/27 [==============================] - 8s 284ms/step - loss: 0.0217 - val_loss: 0.0203\n",
      "Epoch 30/50\n",
      "27/27 [==============================] - 4s 149ms/step - loss: 0.0217 - val_loss: 0.0201\n",
      "Epoch 31/50\n",
      "27/27 [==============================] - 5s 194ms/step - loss: 0.0217 - val_loss: 0.0203\n",
      "Epoch 32/50\n",
      "27/27 [==============================] - 6s 216ms/step - loss: 0.0217 - val_loss: 0.0201\n",
      "Epoch 33/50\n",
      "27/27 [==============================] - 6s 208ms/step - loss: 0.0217 - val_loss: 0.0200\n",
      "Epoch 34/50\n",
      "27/27 [==============================] - 6s 207ms/step - loss: 0.0217 - val_loss: 0.0201\n",
      "Epoch 35/50\n",
      "27/27 [==============================] - 5s 188ms/step - loss: 0.0216 - val_loss: 0.0201\n",
      "Epoch 36/50\n",
      "27/27 [==============================] - 6s 214ms/step - loss: 0.0216 - val_loss: 0.0201\n",
      "Epoch 37/50\n",
      "27/27 [==============================] - 5s 178ms/step - loss: 0.0216 - val_loss: 0.0200\n",
      "Epoch 38/50\n",
      "27/27 [==============================] - 5s 174ms/step - loss: 0.0216 - val_loss: 0.0200\n",
      "Epoch 39/50\n",
      "27/27 [==============================] - 5s 175ms/step - loss: 0.0216 - val_loss: 0.0200\n",
      "Epoch 40/50\n",
      "27/27 [==============================] - 5s 191ms/step - loss: 0.0216 - val_loss: 0.0200\n",
      "Epoch 41/50\n",
      "27/27 [==============================] - 5s 196ms/step - loss: 0.0216 - val_loss: 0.0200\n",
      "Epoch 42/50\n",
      "27/27 [==============================] - 6s 219ms/step - loss: 0.0216 - val_loss: 0.0201\n",
      "Epoch 43/50\n",
      "27/27 [==============================] - 7s 260ms/step - loss: 0.0216 - val_loss: 0.0204\n",
      "Epoch 44/50\n",
      "27/27 [==============================] - 8s 280ms/step - loss: 0.0216 - val_loss: 0.0201\n",
      "Epoch 45/50\n",
      "27/27 [==============================] - 7s 272ms/step - loss: 0.0216 - val_loss: 0.0201\n",
      "Epoch 46/50\n",
      "27/27 [==============================] - 7s 275ms/step - loss: 0.0216 - val_loss: 0.0200\n",
      "Epoch 47/50\n",
      "27/27 [==============================] - 8s 291ms/step - loss: 0.0216 - val_loss: 0.0200\n",
      "Epoch 48/50\n",
      "27/27 [==============================] - 8s 287ms/step - loss: 0.0216 - val_loss: 0.0200\n",
      "Epoch 49/50\n",
      "27/27 [==============================] - 8s 295ms/step - loss: 0.0216 - val_loss: 0.0200\n",
      "Epoch 50/50\n",
      "27/27 [==============================] - 8s 284ms/step - loss: 0.0216 - val_loss: 0.0200\n"
     ]
    }
   ],
   "source": [
    "# Fit the model\n",
    "history = model.fit(\n",
    "    X_train_data, y_train_data,  # X_train_data as both input and target\n",
    "    epochs=50,\n",
    "    batch_size=32,\n",
    "    validation_split=0.1,  # Use part of the data for validation\n",
    "    shuffle=True  # Shuffle for randomized training batches\n",
    ")"
   ]
  },
  {
   "cell_type": "code",
   "execution_count": 33,
   "metadata": {},
   "outputs": [
    {
     "name": "stderr",
     "output_type": "stream",
     "text": [
      "C:\\Users\\ANANT TIWARI\\AppData\\Roaming\\Python\\Python311\\site-packages\\keras\\src\\engine\\training.py:3079: UserWarning: You are saving your model as an HDF5 file via `model.save()`. This file format is considered legacy. We recommend using instead the native Keras format, e.g. `model.save('my_model.keras')`.\n",
      "  saving_api.save_model(\n"
     ]
    }
   ],
   "source": [
    "model.save('model3.h5')"
   ]
  }
 ],
 "metadata": {
  "kernelspec": {
   "display_name": "Python 3",
   "language": "python",
   "name": "python3"
  },
  "language_info": {
   "codemirror_mode": {
    "name": "ipython",
    "version": 3
   },
   "file_extension": ".py",
   "mimetype": "text/x-python",
   "name": "python",
   "nbconvert_exporter": "python",
   "pygments_lexer": "ipython3",
   "version": "3.11.5"
  }
 },
 "nbformat": 4,
 "nbformat_minor": 2
}
